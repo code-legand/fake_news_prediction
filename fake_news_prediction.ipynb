{
 "cells": [
  {
   "cell_type": "markdown",
   "id": "5144d659",
   "metadata": {},
   "source": [
    "<h1 style=\"font-family: 'Times New Roman'; font-size: 36px; text-align: center;\">Fake News Prediction</h1>"
   ]
  },
  {
   "cell_type": "markdown",
   "id": "c4ab115b",
   "metadata": {},
   "source": [
    "<br><h2 style=\"font-size: 28px; text-align: center; color: red\">Importing Modules</h1>"
   ]
  },
  {
   "cell_type": "code",
   "execution_count": 20,
   "id": "5732f0b5",
   "metadata": {},
   "outputs": [],
   "source": [
    "import numpy as np\n",
    "import pandas as pd\n",
    "import matplotlib.pyplot as plt\n",
    "from pprint import pprint\n",
    "\n",
    "from sklearn.utils import resample\n",
    "import contractions\n",
    "import string\n",
    "from nltk.stem import WordNetLemmatizer\n",
    "from nltk.corpus import wordnet\n",
    "from sklearn.feature_extraction.text import TfidfVectorizer\n",
    "from sklearn.model_selection import train_test_split\n",
    "\n",
    "from sklearn.ensemble import RandomForestClassifier        #Random Forest Classifier\n",
    "from sklearn.neural_network import MLPClassifier        #Multi-layer Perceptron (MLP) Classifier\n",
    "from sklearn.linear_model import PassiveAggressiveClassifier        #Passive Aggressive Classifier\n",
    "\n",
    "from sklearn.metrics import accuracy_score, f1_score, precision_score, recall_score\n",
    "from sklearn.metrics import confusion_matrix\n",
    "from sklearn.metrics import ConfusionMatrixDisplay\n",
    "from sklearn.metrics import roc_curve\n",
    "from sklearn.metrics import RocCurveDisplay\n",
    "from sklearn.metrics import precision_recall_curve\n",
    "from sklearn.metrics import PrecisionRecallDisplay"
   ]
  },
  {
   "cell_type": "markdown",
   "id": "a4876414",
   "metadata": {},
   "source": [
    "<br><h2 style=\"font-size: 28px; text-align: center; color: red\">Data Preprocessing</h1>"
   ]
  },
  {
   "cell_type": "markdown",
   "id": "e96c5b65",
   "metadata": {},
   "source": [
    "<h2 style=\"font-size: 24px; text-align: center; font-style: italic;\">Importing File<i>"
   ]
  },
  {
   "cell_type": "code",
   "execution_count": 21,
   "id": "da134f9a",
   "metadata": {},
   "outputs": [
    {
     "data": {
      "text/html": [
       "<div>\n",
       "<style scoped>\n",
       "    .dataframe tbody tr th:only-of-type {\n",
       "        vertical-align: middle;\n",
       "    }\n",
       "\n",
       "    .dataframe tbody tr th {\n",
       "        vertical-align: top;\n",
       "    }\n",
       "\n",
       "    .dataframe thead th {\n",
       "        text-align: right;\n",
       "    }\n",
       "</style>\n",
       "<table border=\"1\" class=\"dataframe\">\n",
       "  <thead>\n",
       "    <tr style=\"text-align: right;\">\n",
       "      <th></th>\n",
       "      <th>Unnamed: 0</th>\n",
       "      <th>title</th>\n",
       "      <th>text</th>\n",
       "      <th>label</th>\n",
       "    </tr>\n",
       "  </thead>\n",
       "  <tbody>\n",
       "    <tr>\n",
       "      <th>0</th>\n",
       "      <td>8476</td>\n",
       "      <td>You Can Smell Hillary’s Fear</td>\n",
       "      <td>Daniel Greenfield, a Shillman Journalism Fello...</td>\n",
       "      <td>FAKE</td>\n",
       "    </tr>\n",
       "    <tr>\n",
       "      <th>1</th>\n",
       "      <td>10294</td>\n",
       "      <td>Watch The Exact Moment Paul Ryan Committed Pol...</td>\n",
       "      <td>Google Pinterest Digg Linkedin Reddit Stumbleu...</td>\n",
       "      <td>FAKE</td>\n",
       "    </tr>\n",
       "    <tr>\n",
       "      <th>2</th>\n",
       "      <td>3608</td>\n",
       "      <td>Kerry to go to Paris in gesture of sympathy</td>\n",
       "      <td>U.S. Secretary of State John F. Kerry said Mon...</td>\n",
       "      <td>REAL</td>\n",
       "    </tr>\n",
       "    <tr>\n",
       "      <th>3</th>\n",
       "      <td>10142</td>\n",
       "      <td>Bernie supporters on Twitter erupt in anger ag...</td>\n",
       "      <td>— Kaydee King (@KaydeeKing) November 9, 2016 T...</td>\n",
       "      <td>FAKE</td>\n",
       "    </tr>\n",
       "    <tr>\n",
       "      <th>4</th>\n",
       "      <td>875</td>\n",
       "      <td>The Battle of New York: Why This Primary Matters</td>\n",
       "      <td>It's primary day in New York and front-runners...</td>\n",
       "      <td>REAL</td>\n",
       "    </tr>\n",
       "  </tbody>\n",
       "</table>\n",
       "</div>"
      ],
      "text/plain": [
       "   Unnamed: 0                                              title  \\\n",
       "0        8476                       You Can Smell Hillary’s Fear   \n",
       "1       10294  Watch The Exact Moment Paul Ryan Committed Pol...   \n",
       "2        3608        Kerry to go to Paris in gesture of sympathy   \n",
       "3       10142  Bernie supporters on Twitter erupt in anger ag...   \n",
       "4         875   The Battle of New York: Why This Primary Matters   \n",
       "\n",
       "                                                text label  \n",
       "0  Daniel Greenfield, a Shillman Journalism Fello...  FAKE  \n",
       "1  Google Pinterest Digg Linkedin Reddit Stumbleu...  FAKE  \n",
       "2  U.S. Secretary of State John F. Kerry said Mon...  REAL  \n",
       "3  — Kaydee King (@KaydeeKing) November 9, 2016 T...  FAKE  \n",
       "4  It's primary day in New York and front-runners...  REAL  "
      ]
     },
     "execution_count": 21,
     "metadata": {},
     "output_type": "execute_result"
    }
   ],
   "source": [
    "df=pd.read_csv(\"news.csv\")\n",
    "df.head()"
   ]
  },
  {
   "cell_type": "markdown",
   "id": "640c1aed",
   "metadata": {},
   "source": [
    "<h2 style=\"font-size: 24px; text-align: center; font-style: italic;\">Dropping Unnecessary Columns<i>"
   ]
  },
  {
   "cell_type": "code",
   "execution_count": 22,
   "id": "7811023f",
   "metadata": {},
   "outputs": [
    {
     "data": {
      "text/html": [
       "<div>\n",
       "<style scoped>\n",
       "    .dataframe tbody tr th:only-of-type {\n",
       "        vertical-align: middle;\n",
       "    }\n",
       "\n",
       "    .dataframe tbody tr th {\n",
       "        vertical-align: top;\n",
       "    }\n",
       "\n",
       "    .dataframe thead th {\n",
       "        text-align: right;\n",
       "    }\n",
       "</style>\n",
       "<table border=\"1\" class=\"dataframe\">\n",
       "  <thead>\n",
       "    <tr style=\"text-align: right;\">\n",
       "      <th></th>\n",
       "      <th>title</th>\n",
       "      <th>text</th>\n",
       "      <th>label</th>\n",
       "    </tr>\n",
       "  </thead>\n",
       "  <tbody>\n",
       "    <tr>\n",
       "      <th>0</th>\n",
       "      <td>You Can Smell Hillary’s Fear</td>\n",
       "      <td>Daniel Greenfield, a Shillman Journalism Fello...</td>\n",
       "      <td>FAKE</td>\n",
       "    </tr>\n",
       "    <tr>\n",
       "      <th>1</th>\n",
       "      <td>Watch The Exact Moment Paul Ryan Committed Pol...</td>\n",
       "      <td>Google Pinterest Digg Linkedin Reddit Stumbleu...</td>\n",
       "      <td>FAKE</td>\n",
       "    </tr>\n",
       "    <tr>\n",
       "      <th>2</th>\n",
       "      <td>Kerry to go to Paris in gesture of sympathy</td>\n",
       "      <td>U.S. Secretary of State John F. Kerry said Mon...</td>\n",
       "      <td>REAL</td>\n",
       "    </tr>\n",
       "    <tr>\n",
       "      <th>3</th>\n",
       "      <td>Bernie supporters on Twitter erupt in anger ag...</td>\n",
       "      <td>— Kaydee King (@KaydeeKing) November 9, 2016 T...</td>\n",
       "      <td>FAKE</td>\n",
       "    </tr>\n",
       "    <tr>\n",
       "      <th>4</th>\n",
       "      <td>The Battle of New York: Why This Primary Matters</td>\n",
       "      <td>It's primary day in New York and front-runners...</td>\n",
       "      <td>REAL</td>\n",
       "    </tr>\n",
       "  </tbody>\n",
       "</table>\n",
       "</div>"
      ],
      "text/plain": [
       "                                               title  \\\n",
       "0                       You Can Smell Hillary’s Fear   \n",
       "1  Watch The Exact Moment Paul Ryan Committed Pol...   \n",
       "2        Kerry to go to Paris in gesture of sympathy   \n",
       "3  Bernie supporters on Twitter erupt in anger ag...   \n",
       "4   The Battle of New York: Why This Primary Matters   \n",
       "\n",
       "                                                text label  \n",
       "0  Daniel Greenfield, a Shillman Journalism Fello...  FAKE  \n",
       "1  Google Pinterest Digg Linkedin Reddit Stumbleu...  FAKE  \n",
       "2  U.S. Secretary of State John F. Kerry said Mon...  REAL  \n",
       "3  — Kaydee King (@KaydeeKing) November 9, 2016 T...  FAKE  \n",
       "4  It's primary day in New York and front-runners...  REAL  "
      ]
     },
     "execution_count": 22,
     "metadata": {},
     "output_type": "execute_result"
    }
   ],
   "source": [
    "df=df.drop(columns=[\"Unnamed: 0\"])\n",
    "df.head()"
   ]
  },
  {
   "cell_type": "markdown",
   "id": "542da9cf",
   "metadata": {},
   "source": [
    "<h2 style=\"font-size: 24px; text-align: center; font-style: italic;\">Renaming Labels<i>"
   ]
  },
  {
   "cell_type": "code",
   "execution_count": 23,
   "id": "9560c12e",
   "metadata": {},
   "outputs": [
    {
     "data": {
      "text/html": [
       "<div>\n",
       "<style scoped>\n",
       "    .dataframe tbody tr th:only-of-type {\n",
       "        vertical-align: middle;\n",
       "    }\n",
       "\n",
       "    .dataframe tbody tr th {\n",
       "        vertical-align: top;\n",
       "    }\n",
       "\n",
       "    .dataframe thead th {\n",
       "        text-align: right;\n",
       "    }\n",
       "</style>\n",
       "<table border=\"1\" class=\"dataframe\">\n",
       "  <thead>\n",
       "    <tr style=\"text-align: right;\">\n",
       "      <th></th>\n",
       "      <th>title</th>\n",
       "      <th>text</th>\n",
       "      <th>label</th>\n",
       "    </tr>\n",
       "  </thead>\n",
       "  <tbody>\n",
       "    <tr>\n",
       "      <th>0</th>\n",
       "      <td>You Can Smell Hillary’s Fear</td>\n",
       "      <td>Daniel Greenfield, a Shillman Journalism Fello...</td>\n",
       "      <td>1</td>\n",
       "    </tr>\n",
       "    <tr>\n",
       "      <th>1</th>\n",
       "      <td>Watch The Exact Moment Paul Ryan Committed Pol...</td>\n",
       "      <td>Google Pinterest Digg Linkedin Reddit Stumbleu...</td>\n",
       "      <td>1</td>\n",
       "    </tr>\n",
       "    <tr>\n",
       "      <th>2</th>\n",
       "      <td>Kerry to go to Paris in gesture of sympathy</td>\n",
       "      <td>U.S. Secretary of State John F. Kerry said Mon...</td>\n",
       "      <td>0</td>\n",
       "    </tr>\n",
       "    <tr>\n",
       "      <th>3</th>\n",
       "      <td>Bernie supporters on Twitter erupt in anger ag...</td>\n",
       "      <td>— Kaydee King (@KaydeeKing) November 9, 2016 T...</td>\n",
       "      <td>1</td>\n",
       "    </tr>\n",
       "    <tr>\n",
       "      <th>4</th>\n",
       "      <td>The Battle of New York: Why This Primary Matters</td>\n",
       "      <td>It's primary day in New York and front-runners...</td>\n",
       "      <td>0</td>\n",
       "    </tr>\n",
       "  </tbody>\n",
       "</table>\n",
       "</div>"
      ],
      "text/plain": [
       "                                               title  \\\n",
       "0                       You Can Smell Hillary’s Fear   \n",
       "1  Watch The Exact Moment Paul Ryan Committed Pol...   \n",
       "2        Kerry to go to Paris in gesture of sympathy   \n",
       "3  Bernie supporters on Twitter erupt in anger ag...   \n",
       "4   The Battle of New York: Why This Primary Matters   \n",
       "\n",
       "                                                text label  \n",
       "0  Daniel Greenfield, a Shillman Journalism Fello...     1  \n",
       "1  Google Pinterest Digg Linkedin Reddit Stumbleu...     1  \n",
       "2  U.S. Secretary of State John F. Kerry said Mon...     0  \n",
       "3  — Kaydee King (@KaydeeKing) November 9, 2016 T...     1  \n",
       "4  It's primary day in New York and front-runners...     0  "
      ]
     },
     "execution_count": 23,
     "metadata": {},
     "output_type": "execute_result"
    }
   ],
   "source": [
    "df.loc[df['label']=='FAKE', ['label']]=1\n",
    "df.loc[df['label']=='REAL', ['label']]=0\n",
    "df.head()"
   ]
  },
  {
   "cell_type": "markdown",
   "id": "d3621f25",
   "metadata": {},
   "source": [
    "<h2 style=\"font-size: 24px; text-align: center; font-style: italic;\">Data-Type Correction<i>"
   ]
  },
  {
   "cell_type": "code",
   "execution_count": 24,
   "id": "68fb0250",
   "metadata": {
    "scrolled": true
   },
   "outputs": [
    {
     "data": {
      "text/plain": [
       "title    object\n",
       "text     object\n",
       "label    object\n",
       "dtype: object"
      ]
     },
     "execution_count": 24,
     "metadata": {},
     "output_type": "execute_result"
    }
   ],
   "source": [
    "df.dtypes"
   ]
  },
  {
   "cell_type": "code",
   "execution_count": 25,
   "id": "d2f80450",
   "metadata": {},
   "outputs": [
    {
     "data": {
      "text/plain": [
       "title    string\n",
       "text     string\n",
       "label     int32\n",
       "dtype: object"
      ]
     },
     "execution_count": 25,
     "metadata": {},
     "output_type": "execute_result"
    }
   ],
   "source": [
    "df=df.astype({'title':'string', 'text':'string', 'label':int})\n",
    "df.dtypes"
   ]
  },
  {
   "cell_type": "markdown",
   "id": "a20e65da",
   "metadata": {},
   "source": [
    "<h2 style=\"font-size: 24px; text-align: center; font-style: italic;\">Checking Null Values<i>"
   ]
  },
  {
   "cell_type": "code",
   "execution_count": 26,
   "id": "bf28dfbe",
   "metadata": {},
   "outputs": [
    {
     "data": {
      "text/plain": [
       "title    0\n",
       "text     0\n",
       "label    0\n",
       "dtype: int64"
      ]
     },
     "execution_count": 26,
     "metadata": {},
     "output_type": "execute_result"
    }
   ],
   "source": [
    "df.isnull().sum()"
   ]
  },
  {
   "cell_type": "markdown",
   "id": "077696d6",
   "metadata": {},
   "source": [
    "<h2 style=\"font-size: 24px; text-align: center; font-style: italic;\">Removing Duplicate Values<i>"
   ]
  },
  {
   "cell_type": "code",
   "execution_count": 27,
   "id": "57e29f2a",
   "metadata": {},
   "outputs": [
    {
     "data": {
      "text/plain": [
       "29"
      ]
     },
     "execution_count": 27,
     "metadata": {},
     "output_type": "execute_result"
    }
   ],
   "source": [
    "df.duplicated().sum()"
   ]
  },
  {
   "cell_type": "code",
   "execution_count": 28,
   "id": "22c79f1f",
   "metadata": {
    "scrolled": true
   },
   "outputs": [
    {
     "data": {
      "text/plain": [
       "0"
      ]
     },
     "execution_count": 28,
     "metadata": {},
     "output_type": "execute_result"
    }
   ],
   "source": [
    "df=df.drop_duplicates()\n",
    "df.duplicated().sum()"
   ]
  },
  {
   "cell_type": "markdown",
   "id": "0a0bee45",
   "metadata": {},
   "source": [
    "<h2 style=\"font-size: 24px; text-align: center; font-style: italic;\">Undersampling<i>"
   ]
  },
  {
   "cell_type": "code",
   "execution_count": 29,
   "id": "6ceb3745",
   "metadata": {},
   "outputs": [
    {
     "data": {
      "text/plain": [
       "0    3154\n",
       "1    3152\n",
       "Name: label, dtype: int64"
      ]
     },
     "execution_count": 29,
     "metadata": {},
     "output_type": "execute_result"
    }
   ],
   "source": [
    "df['label'].value_counts()"
   ]
  },
  {
   "cell_type": "code",
   "execution_count": 30,
   "id": "b1931037",
   "metadata": {},
   "outputs": [
    {
     "data": {
      "text/plain": [
       "0    3152\n",
       "1    3152\n",
       "Name: label, dtype: int64"
      ]
     },
     "execution_count": 30,
     "metadata": {},
     "output_type": "execute_result"
    }
   ],
   "source": [
    "x=df.loc[df['label']==0]\n",
    "y=df.loc[df['label']==1]\n",
    "x=resample(x, n_samples=3152)\n",
    "df=pd.concat((x, y))\n",
    "df['label'].value_counts()"
   ]
  },
  {
   "cell_type": "markdown",
   "id": "88a5e846",
   "metadata": {},
   "source": [
    "<h2 style=\"font-size: 24px; text-align: center; font-style: italic;\">Shuffling<i>"
   ]
  },
  {
   "cell_type": "code",
   "execution_count": 31,
   "id": "bfcff165",
   "metadata": {},
   "outputs": [
    {
     "data": {
      "text/html": [
       "<div>\n",
       "<style scoped>\n",
       "    .dataframe tbody tr th:only-of-type {\n",
       "        vertical-align: middle;\n",
       "    }\n",
       "\n",
       "    .dataframe tbody tr th {\n",
       "        vertical-align: top;\n",
       "    }\n",
       "\n",
       "    .dataframe thead th {\n",
       "        text-align: right;\n",
       "    }\n",
       "</style>\n",
       "<table border=\"1\" class=\"dataframe\">\n",
       "  <thead>\n",
       "    <tr style=\"text-align: right;\">\n",
       "      <th></th>\n",
       "      <th>title</th>\n",
       "      <th>text</th>\n",
       "      <th>label</th>\n",
       "    </tr>\n",
       "  </thead>\n",
       "  <tbody>\n",
       "    <tr>\n",
       "      <th>2783</th>\n",
       "      <td>Why The U.S. Presidential Election Has The Ent...</td>\n",
       "      <td>in: Politics , Sleuth Journal , Special Intere...</td>\n",
       "      <td>1</td>\n",
       "    </tr>\n",
       "    <tr>\n",
       "      <th>4972</th>\n",
       "      <td>A monumental test for Boehner</td>\n",
       "      <td>Top Dems want White House to call off Part B d...</td>\n",
       "      <td>0</td>\n",
       "    </tr>\n",
       "    <tr>\n",
       "      <th>1176</th>\n",
       "      <td>Nuclear weapons: how foreign hotspots could te...</td>\n",
       "      <td>November 11, 2016 Nuclear weapons: how foreign...</td>\n",
       "      <td>1</td>\n",
       "    </tr>\n",
       "    <tr>\n",
       "      <th>588</th>\n",
       "      <td>The Sad Truth About Melania Trump’s Plagiarism...</td>\n",
       "      <td>First of all, poor Melania. She was just tryin...</td>\n",
       "      <td>0</td>\n",
       "    </tr>\n",
       "    <tr>\n",
       "      <th>5040</th>\n",
       "      <td>The big problem Obama's free community college...</td>\n",
       "      <td>When President Obama called for two years of f...</td>\n",
       "      <td>0</td>\n",
       "    </tr>\n",
       "  </tbody>\n",
       "</table>\n",
       "</div>"
      ],
      "text/plain": [
       "                                                  title  \\\n",
       "2783  Why The U.S. Presidential Election Has The Ent...   \n",
       "4972                      A monumental test for Boehner   \n",
       "1176  Nuclear weapons: how foreign hotspots could te...   \n",
       "588   The Sad Truth About Melania Trump’s Plagiarism...   \n",
       "5040  The big problem Obama's free community college...   \n",
       "\n",
       "                                                   text  label  \n",
       "2783  in: Politics , Sleuth Journal , Special Intere...      1  \n",
       "4972  Top Dems want White House to call off Part B d...      0  \n",
       "1176  November 11, 2016 Nuclear weapons: how foreign...      1  \n",
       "588   First of all, poor Melania. She was just tryin...      0  \n",
       "5040  When President Obama called for two years of f...      0  "
      ]
     },
     "execution_count": 31,
     "metadata": {},
     "output_type": "execute_result"
    }
   ],
   "source": [
    "df=df.sample(frac=1)\n",
    "df.head()"
   ]
  },
  {
   "cell_type": "markdown",
   "id": "f9095e76",
   "metadata": {},
   "source": [
    "<h2 style=\"font-size: 24px; text-align: center; font-style: italic;\">Data Description<i>"
   ]
  },
  {
   "cell_type": "code",
   "execution_count": 32,
   "id": "334e4978",
   "metadata": {
    "scrolled": false
   },
   "outputs": [
    {
     "data": {
      "text/html": [
       "<div>\n",
       "<style scoped>\n",
       "    .dataframe tbody tr th:only-of-type {\n",
       "        vertical-align: middle;\n",
       "    }\n",
       "\n",
       "    .dataframe tbody tr th {\n",
       "        vertical-align: top;\n",
       "    }\n",
       "\n",
       "    .dataframe thead th {\n",
       "        text-align: right;\n",
       "    }\n",
       "</style>\n",
       "<table border=\"1\" class=\"dataframe\">\n",
       "  <thead>\n",
       "    <tr style=\"text-align: right;\">\n",
       "      <th></th>\n",
       "      <th>label</th>\n",
       "    </tr>\n",
       "  </thead>\n",
       "  <tbody>\n",
       "    <tr>\n",
       "      <th>count</th>\n",
       "      <td>6304.00000</td>\n",
       "    </tr>\n",
       "    <tr>\n",
       "      <th>mean</th>\n",
       "      <td>0.50000</td>\n",
       "    </tr>\n",
       "    <tr>\n",
       "      <th>std</th>\n",
       "      <td>0.50004</td>\n",
       "    </tr>\n",
       "    <tr>\n",
       "      <th>min</th>\n",
       "      <td>0.00000</td>\n",
       "    </tr>\n",
       "    <tr>\n",
       "      <th>25%</th>\n",
       "      <td>0.00000</td>\n",
       "    </tr>\n",
       "    <tr>\n",
       "      <th>50%</th>\n",
       "      <td>0.50000</td>\n",
       "    </tr>\n",
       "    <tr>\n",
       "      <th>75%</th>\n",
       "      <td>1.00000</td>\n",
       "    </tr>\n",
       "    <tr>\n",
       "      <th>max</th>\n",
       "      <td>1.00000</td>\n",
       "    </tr>\n",
       "  </tbody>\n",
       "</table>\n",
       "</div>"
      ],
      "text/plain": [
       "            label\n",
       "count  6304.00000\n",
       "mean      0.50000\n",
       "std       0.50004\n",
       "min       0.00000\n",
       "25%       0.00000\n",
       "50%       0.50000\n",
       "75%       1.00000\n",
       "max       1.00000"
      ]
     },
     "execution_count": 32,
     "metadata": {},
     "output_type": "execute_result"
    }
   ],
   "source": [
    "df.describe()"
   ]
  },
  {
   "cell_type": "markdown",
   "id": "f74933eb",
   "metadata": {},
   "source": [
    "<br><h2 style=\"font-size: 28px; text-align: center; color: red\">Data Preparation</h1>"
   ]
  },
  {
   "cell_type": "code",
   "execution_count": 33,
   "id": "33440096",
   "metadata": {},
   "outputs": [],
   "source": [
    "titles=df['title']\n",
    "contents=df['text']\n",
    "labels=df['label']"
   ]
  },
  {
   "cell_type": "markdown",
   "id": "c250ac43",
   "metadata": {},
   "source": [
    "<h2 style=\"font-size: 24px; text-align: center; font-style: italic;\">Convert To Lowercase<i>"
   ]
  },
  {
   "cell_type": "code",
   "execution_count": 34,
   "id": "7c55dad7",
   "metadata": {
    "scrolled": true
   },
   "outputs": [
    {
     "name": "stdout",
     "output_type": "stream",
     "text": [
      "why the u.s. presidential election has the entire world confused\n",
      "in: politics , sleuth journal , special interests well, everyone thought it was a sure thing — hillary clinton had the white house in the bag; the entire political system from the dnc to the rnc and the mainstream media had already called the election over and done. online gambling sites listed clinton as a sure bet and irish site paddy power even paid out one million dollars on the assumption of a clinton win. and then, one weiner ruined everything — anthony weiner. the revelation of an october surprise re-opening of the fbi’s investigation into hillary clinton’s misuse of classified data on private and vulnerable email servers does not come as a shock to me, but it certainly does to many people around the world. hundreds of mainstream outlets are scrambling to spin the news as misconduct by the fbi rather than a victory for the halls of justice. numerous alternative media analysts are rushing to cover their butts and admit that there is now a “chance” of a trump win. confusion reigns supreme as the weirdest election in u.s. history continues to bewilder observers. the first issue that needs to be addressed is the lack of an open mind displayed by some when it comes to the real purpose behind this election. the second issue here, of course, is one of timing. through the majority of this election cycle the public consensus has been that clinton will win. some argued that trump would not be able to compete with the leftist media empire standing against him, while others have argued that the entire system including the republican establishment would ensure that trump would fail. the alternative media has in the past simply pointed out that elections have always been rigged, either by the elites playing both sides of the competition, or through outright voter fraud. they have assumed that the elites want clinton, and therefore, the election has already been decided. i tend to agree with the latter point of view, though i disagree with the conclusion. u.s. elections are indeed controlled, and have been for decades, primarily through the false left/right paradigm. however, as i have been pointing out since i correctly predicted the success of the brexit referendum, i don’t think that clinton is the choice of the elites. i outline my reasons for this conclusion in-depth in articles like ‘2016 will end with economic instability and a trump presidency’ , published in august. for the past several months it seems as though i have been the only person holding the view that trump will be president. only in the past few days have i received emails from readers stating that they used to think i was probably crazy, but now they aren’t so sure… to be clear, my position is that trump is slated to take the white house and that this is by design. this has been my position since before trump won the republican primaries, it was my position when the election cycle began, it has never changed, nor have my views on the reasons for this outcome ever changed. of course, the election is not over yet, and if clinton ends up soiling the already thoroughly soiled oval office with her presence, then everyone can color me confused as well. that said, here are some issues that i think many people are overlooking when coming to conclusions on the election and the events surrounding it. clinton is the worst candidate the elites could have chosen i have been studying the activities and behaviors of establishment elites for over a decade and i have to say… they are not stupid. they certainly have hubris, and i would not call them “wise,” but they are definitely devious. they know how to rig a game. they know how to play both sides. they know how to cheat to get what they want when it comes to politics and how to manufacture consent from portions of the public. they’ve been doing it a long time. they have mastered it. so, in my view it is rather insane for the elites to field a candidate such as hillary clinton if the entirety of their globalist empire hangs in the balance (i don’t think it does). though she is fond of bleachbit, the woman is unbleachable. with a decades-long rap sheet from her work at rose law firm (in which document destruction and “misplacement” was apparently routine) to her interference with investigations into bill clinton’s sexual indiscretions, to the strange odyssey surrounding her lies on the benghazi attack, as well as her rampant mishandling of classified documents as head of the state department, not to mention the clinton foundation’s pay to play scandals, it is impossible to endear her to the masses. her dismal crowd turnouts are rather indicative of this. on top of all this, clinton’s anti-russia rhetoric is coming off as absolutely crazy, and i think this is by design. many in the alternative media, while assuming that clinton is paving the way for wwiii, forget that the average person may not be up to speed on the same information we are, but most of them aren’t ignorant. clinton’s ravings on russian hacking and potential war are even putting liberals off rather than inspiring their confidence. one would think that if the elites have their veritable pick of any politician to represent their interests in the white house and convince the american public to go along for the ride, clinton would be the worst choice. even if the intention were to rig the election in favor of clinton, she would be a lame-duck president the second she took office, and, her mere presence would galvanize conservatives to the point of mass rebellion. this is not generally how the elites play the game. instead, they prefer co-option to direct confrontation. which president is better for the elites during an economic breakdown? if you consider the premise that clinton is not the chosen one, and that the entire election is theater, the situation changes rather drastically. those that follow the underlying economic data that the mainstream tends to ignore know that large swaths of the global financial system are not long for this world. with europe’s banking system plunging towards a lehman-style event, the opec production freeze deal ready to fall apart yet again, and the federal reserve threatening to raise rates into recessionary conditions in december, our already floundering fiscal structure is approaching another crisis. my questions has always been who would the elites rather have in office when this crisis occurs? i’ve said it a hundred times before and i’ll say it again here: with clinton in office, globalists and international financiers get the blame for any economic downturn. with trump in office, conservative movements will be blamed. in fact, i suggest anyone who doubts this scenario watch stock market reactions every time trump rises in the polls or clinton faces renewed scandal. the narrative is already being prepared — a trump win equals a market loss. for those that think it outlandish that the public could be tricked into blaming trump and conservatives for an economic crisis, i suggest they consider that possession is nine-tenths of the law in the minds of many. people can also be irrational when facing financial ruin. i would remind readers that history is written by the victors. the globalists plan to be victorious in the dismantling of america and our founding principles. whether or not they succeed is really up to average conservatives and liberty proponents, not trump. the fbi’s move prepares the way for trump clinton and the dnc argue that fbi director james comey’s announcement of a re-opened investigation is politically motivated. and they are right, sort of. the real motivation, i believe, is that clinton was never meant to win the election in the first place, and that the elites want trump placed in power during the final hours of the u.s. economy. everything else is just a kabuki dance. the democrats are crying foul and accusing comey of “working with putin,” or working with the alt-right. the nefarious harry reid has even accused the fbi of hiding trump’s supposed ties to the russian government and violating the hatch act. i think much of this outrage is real, as i believe much of the mainstream media attacks on trump are coming from people who really think they are waging a propaganda war to get hillary clinton elected. this, however, does not mean that the elites plan to install clinton. some might see my position as bizarre. i understand. but equally bizarre to me are some of the rationalizations people attempt to argue when dealing with the comey revelation. for example, the argument that the entire re-opening of the investigation is a complex ploy designed by the establishment to distract away from the wikileaks data dumps. this makes little sense. if anything, the re-opening investigation is only bringing more attention to the wikileaks data, not less. if the elites were hoping to create a distraction, they failed miserably. the fbi’s announcement only harms the clinton campaign. period. even if it fizzles out, even if they announce that nothing was found, the investigation hitting the news streams so close to election day refocuses all public attention back on clinton’s corruption and will continue to do so for the next week at least. the idea that the elites hope to use it to help clinton is nonsensical. i have also seen the argument that comey is acting to cover his own posterior, perhaps because of a fear that trump may steal away a victory. i find this equally absurd. months back the consensus among alternative analysts was that comey (placed in the fbi by obama) was a traitor and the fbi was a puppet agency of the establishment. now, suddenly, comey is worried about a possible trump win and so takes an action which might self-fulfill the prophecy? comey does what he is told. the fbi is an owned and operated elitist franchise. they do not go rogue. if the rogue fbi narrative were true and comey actually feels the need to cover his bases with trump, then it is only because he knows something the rest of us do not. with clinton in office, his goose would be cooked after this little incident. comey only gains an advantage if trump is slated to win. trump may or may not be aware of the plan the bottom line, according to the evidence i have seen in terms of elitists influence over u.s. elections, is that if trump wins it will only be because they wanted him to win. the fbi firestorm this past week appears to support my view and we still have another week left for further clinton ugliness to be revealed. i also expect that if trump wins, the reaction from conservatives and liberty activists will be that the event was a “miracle,” a shocking upset against the establishment. much like the reaction to the brexit referendum. i continue to hold that conservatives and sovereignty champions in europe and america are being set up to take the fall for a coming global destabilization. i have not taken this position just to be contrary. if i think about it honestly, my position is truly a losing position. if i am mistaken and clinton wins on the 8th then i’ll probably never hear the end of it, but that’s a risk that has to be taken, because what i see here is a move on the chess board that others are not considering. if i’m wrong, then i’m wrong. that said, if i am right, then i still lose, because trump supporters and half the liberty movement will be so enraptured that they will probably ignore the greater issue — that trump is the candidate the elites wanted all along. if i am right, i cannot say either way if trump is aware that he will be a potential scapegoat for the elites. with trump on the way to the white house i can guarantee a fed rate hike in december. imagine what a staged war between trump and the federal reserve will do to the u.s. dollar? what a way to destroy the currency’s world reserve status and make way for the imf’s special drawing rights! i also suspect that widespread rioting is on the schedule as well from various social justice mobs; a perfect excuse for expansive martial law measures, don’t you think? the point is, as horrifying as a clinton presidency might be to conservatives (or to everyone), don’t get too comfortable under trump. the party is just getting started and our vigilance must be even greater with a conservative white house, because, like it or not, everything trump does is going to reflect on us. we can no more allow unconstitutional activities under trump than we could under clinton. if you think the election has been chaotic and confusing so far, just wait until after it is over. if you would like to support the publishing of articles like the one you have just read, visit our donations page here . we greatly appreciate your patronage. article first posted at alt-market.com submit your review\n"
     ]
    }
   ],
   "source": [
    "lower_titles = [title.lower() for title in titles]\n",
    "lower_contents = [content.lower() for content in contents]\n",
    "\n",
    "# {lower_titles[i]:lower_contents[i] for i in range(0, 5)}\n",
    "print(lower_titles[0], lower_contents[0], sep='\\n')"
   ]
  },
  {
   "cell_type": "markdown",
   "id": "2417a846",
   "metadata": {},
   "source": [
    "<h2 style=\"font-size: 24px; text-align: center; font-style: italic;\">Remove Numbers<i>"
   ]
  },
  {
   "cell_type": "code",
   "execution_count": 35,
   "id": "c9ee6af7",
   "metadata": {
    "scrolled": true
   },
   "outputs": [
    {
     "name": "stdout",
     "output_type": "stream",
     "text": [
      "why the u.s. presidential election has the entire world confused\n",
      "in: politics , sleuth journal , special interests well, everyone thought it was a sure thing — hillary clinton had the white house in the bag; the entire political system from the dnc to the rnc and the mainstream media had already called the election over and done. online gambling sites listed clinton as a sure bet and irish site paddy power even paid out one million dollars on the assumption of a clinton win. and then, one weiner ruined everything — anthony weiner. the revelation of an october surprise re-opening of the fbi’s investigation into hillary clinton’s misuse of classified data on private and vulnerable email servers does not come as a shock to me, but it certainly does to many people around the world. hundreds of mainstream outlets are scrambling to spin the news as misconduct by the fbi rather than a victory for the halls of justice. numerous alternative media analysts are rushing to cover their butts and admit that there is now a “chance” of a trump win. confusion reigns supreme as the weirdest election in u.s. history continues to bewilder observers. the first issue that needs to be addressed is the lack of an open mind displayed by some when it comes to the real purpose behind this election. the second issue here, of course, is one of timing. through the majority of this election cycle the public consensus has been that clinton will win. some argued that trump would not be able to compete with the leftist media empire standing against him, while others have argued that the entire system including the republican establishment would ensure that trump would fail. the alternative media has in the past simply pointed out that elections have always been rigged, either by the elites playing both sides of the competition, or through outright voter fraud. they have assumed that the elites want clinton, and therefore, the election has already been decided. i tend to agree with the latter point of view, though i disagree with the conclusion. u.s. elections are indeed controlled, and have been for decades, primarily through the false left/right paradigm. however, as i have been pointing out since i correctly predicted the success of the brexit referendum, i don’t think that clinton is the choice of the elites. i outline my reasons for this conclusion in-depth in articles like ‘2016 will end with economic instability and a trump presidency’ , published in august. for the past several months it seems as though i have been the only person holding the view that trump will be president. only in the past few days have i received emails from readers stating that they used to think i was probably crazy, but now they aren’t so sure… to be clear, my position is that trump is slated to take the white house and that this is by design. this has been my position since before trump won the republican primaries, it was my position when the election cycle began, it has never changed, nor have my views on the reasons for this outcome ever changed. of course, the election is not over yet, and if clinton ends up soiling the already thoroughly soiled oval office with her presence, then everyone can color me confused as well. that said, here are some issues that i think many people are overlooking when coming to conclusions on the election and the events surrounding it. clinton is the worst candidate the elites could have chosen i have been studying the activities and behaviors of establishment elites for over a decade and i have to say… they are not stupid. they certainly have hubris, and i would not call them “wise,” but they are definitely devious. they know how to rig a game. they know how to play both sides. they know how to cheat to get what they want when it comes to politics and how to manufacture consent from portions of the public. they’ve been doing it a long time. they have mastered it. so, in my view it is rather insane for the elites to field a candidate such as hillary clinton if the entirety of their globalist empire hangs in the balance (i don’t think it does). though she is fond of bleachbit, the woman is unbleachable. with a decades-long rap sheet from her work at rose law firm (in which document destruction and “misplacement” was apparently routine) to her interference with investigations into bill clinton’s sexual indiscretions, to the strange odyssey surrounding her lies on the benghazi attack, as well as her rampant mishandling of classified documents as head of the state department, not to mention the clinton foundation’s pay to play scandals, it is impossible to endear her to the masses. her dismal crowd turnouts are rather indicative of this. on top of all this, clinton’s anti-russia rhetoric is coming off as absolutely crazy, and i think this is by design. many in the alternative media, while assuming that clinton is paving the way for wwiii, forget that the average person may not be up to speed on the same information we are, but most of them aren’t ignorant. clinton’s ravings on russian hacking and potential war are even putting liberals off rather than inspiring their confidence. one would think that if the elites have their veritable pick of any politician to represent their interests in the white house and convince the american public to go along for the ride, clinton would be the worst choice. even if the intention were to rig the election in favor of clinton, she would be a lame-duck president the second she took office, and, her mere presence would galvanize conservatives to the point of mass rebellion. this is not generally how the elites play the game. instead, they prefer co-option to direct confrontation. which president is better for the elites during an economic breakdown? if you consider the premise that clinton is not the chosen one, and that the entire election is theater, the situation changes rather drastically. those that follow the underlying economic data that the mainstream tends to ignore know that large swaths of the global financial system are not long for this world. with europe’s banking system plunging towards a lehman-style event, the opec production freeze deal ready to fall apart yet again, and the federal reserve threatening to raise rates into recessionary conditions in december, our already floundering fiscal structure is approaching another crisis. my questions has always been who would the elites rather have in office when this crisis occurs? i’ve said it a hundred times before and i’ll say it again here: with clinton in office, globalists and international financiers get the blame for any economic downturn. with trump in office, conservative movements will be blamed. in fact, i suggest anyone who doubts this scenario watch stock market reactions every time trump rises in the polls or clinton faces renewed scandal. the narrative is already being prepared — a trump win equals a market loss. for those that think it outlandish that the public could be tricked into blaming trump and conservatives for an economic crisis, i suggest they consider that possession is nine-tenths of the law in the minds of many. people can also be irrational when facing financial ruin. i would remind readers that history is written by the victors. the globalists plan to be victorious in the dismantling of america and our founding principles. whether or not they succeed is really up to average conservatives and liberty proponents, not trump. the fbi’s move prepares the way for trump clinton and the dnc argue that fbi director james comey’s announcement of a re-opened investigation is politically motivated. and they are right, sort of. the real motivation, i believe, is that clinton was never meant to win the election in the first place, and that the elites want trump placed in power during the final hours of the u.s. economy. everything else is just a kabuki dance. the democrats are crying foul and accusing comey of “working with putin,” or working with the alt-right. the nefarious harry reid has even accused the fbi of hiding trump’s supposed ties to the russian government and violating the hatch act. i think much of this outrage is real, as i believe much of the mainstream media attacks on trump are coming from people who really think they are waging a propaganda war to get hillary clinton elected. this, however, does not mean that the elites plan to install clinton. some might see my position as bizarre. i understand. but equally bizarre to me are some of the rationalizations people attempt to argue when dealing with the comey revelation. for example, the argument that the entire re-opening of the investigation is a complex ploy designed by the establishment to distract away from the wikileaks data dumps. this makes little sense. if anything, the re-opening investigation is only bringing more attention to the wikileaks data, not less. if the elites were hoping to create a distraction, they failed miserably. the fbi’s announcement only harms the clinton campaign. period. even if it fizzles out, even if they announce that nothing was found, the investigation hitting the news streams so close to election day refocuses all public attention back on clinton’s corruption and will continue to do so for the next week at least. the idea that the elites hope to use it to help clinton is nonsensical. i have also seen the argument that comey is acting to cover his own posterior, perhaps because of a fear that trump may steal away a victory. i find this equally absurd. months back the consensus among alternative analysts was that comey (placed in the fbi by obama) was a traitor and the fbi was a puppet agency of the establishment. now, suddenly, comey is worried about a possible trump win and so takes an action which might self-fulfill the prophecy? comey does what he is told. the fbi is an owned and operated elitist franchise. they do not go rogue. if the rogue fbi narrative were true and comey actually feels the need to cover his bases with trump, then it is only because he knows something the rest of us do not. with clinton in office, his goose would be cooked after this little incident. comey only gains an advantage if trump is slated to win. trump may or may not be aware of the plan the bottom line, according to the evidence i have seen in terms of elitists influence over u.s. elections, is that if trump wins it will only be because they wanted him to win. the fbi firestorm this past week appears to support my view and we still have another week left for further clinton ugliness to be revealed. i also expect that if trump wins, the reaction from conservatives and liberty activists will be that the event was a “miracle,” a shocking upset against the establishment. much like the reaction to the brexit referendum. i continue to hold that conservatives and sovereignty champions in europe and america are being set up to take the fall for a coming global destabilization. i have not taken this position just to be contrary. if i think about it honestly, my position is truly a losing position. if i am mistaken and clinton wins on the 8th then i’ll probably never hear the end of it, but that’s a risk that has to be taken, because what i see here is a move on the chess board that others are not considering. if i’m wrong, then i’m wrong. that said, if i am right, then i still lose, because trump supporters and half the liberty movement will be so enraptured that they will probably ignore the greater issue — that trump is the candidate the elites wanted all along. if i am right, i cannot say either way if trump is aware that he will be a potential scapegoat for the elites. with trump on the way to the white house i can guarantee a fed rate hike in december. imagine what a staged war between trump and the federal reserve will do to the u.s. dollar? what a way to destroy the currency’s world reserve status and make way for the imf’s special drawing rights! i also suspect that widespread rioting is on the schedule as well from various social justice mobs; a perfect excuse for expansive martial law measures, don’t you think? the point is, as horrifying as a clinton presidency might be to conservatives (or to everyone), don’t get too comfortable under trump. the party is just getting started and our vigilance must be even greater with a conservative white house, because, like it or not, everything trump does is going to reflect on us. we can no more allow unconstitutional activities under trump than we could under clinton. if you think the election has been chaotic and confusing so far, just wait until after it is over. if you would like to support the publishing of articles like the one you have just read, visit our donations page here . we greatly appreciate your patronage. article first posted at alt-market.com submit your review\n"
     ]
    }
   ],
   "source": [
    "no_num_titles=[\" \".join([word for word in title.split() if not word.isnumeric()]) for title in lower_titles]\n",
    "no_num_contents=[\" \".join([word for word in content.split() if not word.isnumeric()]) for content in lower_contents]\n",
    "\n",
    "print(no_num_titles[0], no_num_contents[0], sep='\\n')"
   ]
  },
  {
   "cell_type": "markdown",
   "id": "a685f0cf",
   "metadata": {},
   "source": [
    "<h2 style=\"font-size: 24px; text-align: center; font-style: italic;\">Expanding Contractions<i>"
   ]
  },
  {
   "cell_type": "code",
   "execution_count": 36,
   "id": "08b773af",
   "metadata": {},
   "outputs": [
    {
     "data": {
      "text/plain": [
       "{\"I'm\": 'I am',\n",
       " \"I'm'a\": 'I am about to',\n",
       " \"I'm'o\": 'I am going to',\n",
       " \"I've\": 'I have',\n",
       " \"I'll\": 'I will',\n",
       " \"I'll've\": 'I will have',\n",
       " \"I'd\": 'I would',\n",
       " \"I'd've\": 'I would have',\n",
       " 'Whatcha': 'What are you',\n",
       " \"amn't\": 'am not',\n",
       " \"ain't\": 'are not',\n",
       " \"aren't\": 'are not',\n",
       " \"'cause\": 'because',\n",
       " \"can't\": 'cannot',\n",
       " \"can't've\": 'cannot have',\n",
       " \"could've\": 'could have',\n",
       " \"couldn't\": 'could not',\n",
       " \"couldn't've\": 'could not have',\n",
       " \"daren't\": 'dare not',\n",
       " \"daresn't\": 'dare not',\n",
       " \"dasn't\": 'dare not',\n",
       " \"didn't\": 'did not',\n",
       " 'didn’t': 'did not',\n",
       " \"don't\": 'do not',\n",
       " 'don’t': 'do not',\n",
       " \"doesn't\": 'does not',\n",
       " \"e'er\": 'ever',\n",
       " \"everyone's\": 'everyone is',\n",
       " 'finna': 'fixing to',\n",
       " 'gimme': 'give me',\n",
       " \"gon't\": 'go not',\n",
       " 'gonna': 'going to',\n",
       " 'gotta': 'got to',\n",
       " \"hadn't\": 'had not',\n",
       " \"hadn't've\": 'had not have',\n",
       " \"hasn't\": 'has not',\n",
       " \"haven't\": 'have not',\n",
       " \"he've\": 'he have',\n",
       " \"he's\": 'he is',\n",
       " \"he'll\": 'he will',\n",
       " \"he'll've\": 'he will have',\n",
       " \"he'd\": 'he would',\n",
       " \"he'd've\": 'he would have',\n",
       " \"here's\": 'here is',\n",
       " \"how're\": 'how are',\n",
       " \"how'd\": 'how did',\n",
       " \"how'd'y\": 'how do you',\n",
       " \"how's\": 'how is',\n",
       " \"how'll\": 'how will',\n",
       " \"isn't\": 'is not',\n",
       " \"it's\": 'it is',\n",
       " \"'tis\": 'it is',\n",
       " \"'twas\": 'it was',\n",
       " \"it'll\": 'it will',\n",
       " \"it'll've\": 'it will have',\n",
       " \"it'd\": 'it would',\n",
       " \"it'd've\": 'it would have',\n",
       " 'kinda': 'kind of',\n",
       " \"let's\": 'let us',\n",
       " 'luv': 'love',\n",
       " \"ma'am\": 'madam',\n",
       " \"may've\": 'may have',\n",
       " \"mayn't\": 'may not',\n",
       " \"might've\": 'might have',\n",
       " \"mightn't\": 'might not',\n",
       " \"mightn't've\": 'might not have',\n",
       " \"must've\": 'must have',\n",
       " \"mustn't\": 'must not',\n",
       " \"mustn't've\": 'must not have',\n",
       " \"needn't\": 'need not',\n",
       " \"needn't've\": 'need not have',\n",
       " \"ne'er\": 'never',\n",
       " \"o'\": 'of',\n",
       " \"o'clock\": 'of the clock',\n",
       " \"ol'\": 'old',\n",
       " \"oughtn't\": 'ought not',\n",
       " \"oughtn't've\": 'ought not have',\n",
       " \"o'er\": 'over',\n",
       " \"shan't\": 'shall not',\n",
       " \"sha'n't\": 'shall not',\n",
       " \"shalln't\": 'shall not',\n",
       " \"shan't've\": 'shall not have',\n",
       " \"she's\": 'she is',\n",
       " \"she'll\": 'she will',\n",
       " \"she'd\": 'she would',\n",
       " \"she'd've\": 'she would have',\n",
       " \"should've\": 'should have',\n",
       " \"shouldn't\": 'should not',\n",
       " \"shouldn't've\": 'should not have',\n",
       " \"so've\": 'so have',\n",
       " \"so's\": 'so is',\n",
       " \"somebody's\": 'somebody is',\n",
       " \"someone's\": 'someone is',\n",
       " \"something's\": 'something is',\n",
       " 'sux': 'sucks',\n",
       " \"that're\": 'that are',\n",
       " \"that's\": 'that is',\n",
       " \"that'll\": 'that will',\n",
       " \"that'd\": 'that would',\n",
       " \"that'd've\": 'that would have',\n",
       " \"'em\": 'them',\n",
       " \"there're\": 'there are',\n",
       " \"there's\": 'there is',\n",
       " \"there'll\": 'there will',\n",
       " \"there'd\": 'there would',\n",
       " \"there'd've\": 'there would have',\n",
       " \"these're\": 'these are',\n",
       " \"they're\": 'they are',\n",
       " \"they've\": 'they have',\n",
       " \"they'll\": 'they will',\n",
       " \"they'll've\": 'they will have',\n",
       " \"they'd\": 'they would',\n",
       " \"they'd've\": 'they would have',\n",
       " \"this's\": 'this is',\n",
       " \"this'll\": 'this will',\n",
       " \"this'd\": 'this would',\n",
       " \"those're\": 'those are',\n",
       " \"to've\": 'to have',\n",
       " 'wanna': 'want to',\n",
       " \"wasn't\": 'was not',\n",
       " \"we're\": 'we are',\n",
       " \"we've\": 'we have',\n",
       " \"we'll\": 'we will',\n",
       " \"we'll've\": 'we will have',\n",
       " \"we'd\": 'we would',\n",
       " \"we'd've\": 'we would have',\n",
       " \"weren't\": 'were not',\n",
       " \"what're\": 'what are',\n",
       " \"what'd\": 'what did',\n",
       " \"what've\": 'what have',\n",
       " \"what's\": 'what is',\n",
       " \"what'll\": 'what will',\n",
       " \"what'll've\": 'what will have',\n",
       " \"when've\": 'when have',\n",
       " \"when's\": 'when is',\n",
       " \"where're\": 'where are',\n",
       " \"where'd\": 'where did',\n",
       " \"where've\": 'where have',\n",
       " \"where's\": 'where is',\n",
       " \"which's\": 'which is',\n",
       " \"who're\": 'who are',\n",
       " \"who've\": 'who have',\n",
       " \"who's\": 'who is',\n",
       " \"who'll\": 'who will',\n",
       " \"who'll've\": 'who will have',\n",
       " \"who'd\": 'who would',\n",
       " \"who'd've\": 'who would have',\n",
       " \"why're\": 'why are',\n",
       " \"why'd\": 'why did',\n",
       " \"why've\": 'why have',\n",
       " \"why's\": 'why is',\n",
       " \"will've\": 'will have',\n",
       " \"won't\": 'will not',\n",
       " \"won't've\": 'will not have',\n",
       " \"would've\": 'would have',\n",
       " \"wouldn't\": 'would not',\n",
       " \"wouldn't've\": 'would not have',\n",
       " \"y'all\": 'you all',\n",
       " \"y'all're\": 'you all are',\n",
       " \"y'all've\": 'you all have',\n",
       " \"y'all'd\": 'you all would',\n",
       " \"y'all'd've\": 'you all would have',\n",
       " \"you're\": 'you are',\n",
       " \"you've\": 'you have',\n",
       " \"you'll've\": 'you shall have',\n",
       " \"you'll\": 'you will',\n",
       " \"you'd\": 'you would',\n",
       " \"you'd've\": 'you would have',\n",
       " 'to cause': 'to cause',\n",
       " 'will cause': 'will cause',\n",
       " 'should cause': 'should cause',\n",
       " 'would cause': 'would cause',\n",
       " 'can cause': 'can cause',\n",
       " 'could cause': 'could cause',\n",
       " 'must cause': 'must cause',\n",
       " 'might cause': 'might cause',\n",
       " 'shall cause': 'shall cause',\n",
       " 'may cause': 'may cause',\n",
       " 'jan.': 'january',\n",
       " 'feb.': 'february',\n",
       " 'mar.': 'march',\n",
       " 'apr.': 'april',\n",
       " 'jun.': 'june',\n",
       " 'jul.': 'july',\n",
       " 'aug.': 'august',\n",
       " 'sep.': 'september',\n",
       " 'oct.': 'october',\n",
       " 'nov.': 'november',\n",
       " 'dec.': 'december',\n",
       " 'I’m': 'I am',\n",
       " 'I’m’a': 'I am about to',\n",
       " 'I’m’o': 'I am going to',\n",
       " 'I’ve': 'I have',\n",
       " 'I’ll': 'I will',\n",
       " 'I’ll’ve': 'I will have',\n",
       " 'I’d': 'I would',\n",
       " 'I’d’ve': 'I would have',\n",
       " 'amn’t': 'am not',\n",
       " 'ain’t': 'are not',\n",
       " 'aren’t': 'are not',\n",
       " '’cause': 'because',\n",
       " 'can’t': 'cannot',\n",
       " 'can’t’ve': 'cannot have',\n",
       " 'could’ve': 'could have',\n",
       " 'couldn’t': 'could not',\n",
       " 'couldn’t’ve': 'could not have',\n",
       " 'daren’t': 'dare not',\n",
       " 'daresn’t': 'dare not',\n",
       " 'dasn’t': 'dare not',\n",
       " 'doesn’t': 'does not',\n",
       " 'e’er': 'ever',\n",
       " 'everyone’s': 'everyone is',\n",
       " 'gon’t': 'go not',\n",
       " 'hadn’t': 'had not',\n",
       " 'hadn’t’ve': 'had not have',\n",
       " 'hasn’t': 'has not',\n",
       " 'haven’t': 'have not',\n",
       " 'he’ve': 'he have',\n",
       " 'he’s': 'he is',\n",
       " 'he’ll': 'he will',\n",
       " 'he’ll’ve': 'he will have',\n",
       " 'he’d': 'he would',\n",
       " 'he’d’ve': 'he would have',\n",
       " 'here’s': 'here is',\n",
       " 'how’re': 'how are',\n",
       " 'how’d': 'how did',\n",
       " 'how’d’y': 'how do you',\n",
       " 'how’s': 'how is',\n",
       " 'how’ll': 'how will',\n",
       " 'isn’t': 'is not',\n",
       " 'it’s': 'it is',\n",
       " '’tis': 'it is',\n",
       " '’twas': 'it was',\n",
       " 'it’ll': 'it will',\n",
       " 'it’ll’ve': 'it will have',\n",
       " 'it’d': 'it would',\n",
       " 'it’d’ve': 'it would have',\n",
       " 'let’s': 'let us',\n",
       " 'ma’am': 'madam',\n",
       " 'may’ve': 'may have',\n",
       " 'mayn’t': 'may not',\n",
       " 'might’ve': 'might have',\n",
       " 'mightn’t': 'might not',\n",
       " 'mightn’t’ve': 'might not have',\n",
       " 'must’ve': 'must have',\n",
       " 'mustn’t': 'must not',\n",
       " 'mustn’t’ve': 'must not have',\n",
       " 'needn’t': 'need not',\n",
       " 'needn’t’ve': 'need not have',\n",
       " 'ne’er': 'never',\n",
       " 'o’': 'of',\n",
       " 'o’clock': 'of the clock',\n",
       " 'ol’': 'old',\n",
       " 'oughtn’t': 'ought not',\n",
       " 'oughtn’t’ve': 'ought not have',\n",
       " 'o’er': 'over',\n",
       " 'shan’t': 'shall not',\n",
       " 'sha’n’t': 'shall not',\n",
       " 'shalln’t': 'shall not',\n",
       " 'shan’t’ve': 'shall not have',\n",
       " 'she’s': 'she is',\n",
       " 'she’ll': 'she will',\n",
       " 'she’d': 'she would',\n",
       " 'she’d’ve': 'she would have',\n",
       " 'should’ve': 'should have',\n",
       " 'shouldn’t': 'should not',\n",
       " 'shouldn’t’ve': 'should not have',\n",
       " 'so’ve': 'so have',\n",
       " 'so’s': 'so is',\n",
       " 'somebody’s': 'somebody is',\n",
       " 'someone’s': 'someone is',\n",
       " 'something’s': 'something is',\n",
       " 'that’re': 'that are',\n",
       " 'that’s': 'that is',\n",
       " 'that’ll': 'that will',\n",
       " 'that’d': 'that would',\n",
       " 'that’d’ve': 'that would have',\n",
       " '’em': 'them',\n",
       " 'there’re': 'there are',\n",
       " 'there’s': 'there is',\n",
       " 'there’ll': 'there will',\n",
       " 'there’d': 'there would',\n",
       " 'there’d’ve': 'there would have',\n",
       " 'these’re': 'these are',\n",
       " 'they’re': 'they are',\n",
       " 'they’ve': 'they have',\n",
       " 'they’ll': 'they will',\n",
       " 'they’ll’ve': 'they will have',\n",
       " 'they’d': 'they would',\n",
       " 'they’d’ve': 'they would have',\n",
       " 'this’s': 'this is',\n",
       " 'this’ll': 'this will',\n",
       " 'this’d': 'this would',\n",
       " 'those’re': 'those are',\n",
       " 'to’ve': 'to have',\n",
       " 'wasn’t': 'was not',\n",
       " 'we’re': 'we are',\n",
       " 'we’ve': 'we have',\n",
       " 'we’ll': 'we will',\n",
       " 'we’ll’ve': 'we will have',\n",
       " 'we’d': 'we would',\n",
       " 'we’d’ve': 'we would have',\n",
       " 'weren’t': 'were not',\n",
       " 'what’re': 'what are',\n",
       " 'what’d': 'what did',\n",
       " 'what’ve': 'what have',\n",
       " 'what’s': 'what is',\n",
       " 'what’ll': 'what will',\n",
       " 'what’ll’ve': 'what will have',\n",
       " 'when’ve': 'when have',\n",
       " 'when’s': 'when is',\n",
       " 'where’re': 'where are',\n",
       " 'where’d': 'where did',\n",
       " 'where’ve': 'where have',\n",
       " 'where’s': 'where is',\n",
       " 'which’s': 'which is',\n",
       " 'who’re': 'who are',\n",
       " 'who’ve': 'who have',\n",
       " 'who’s': 'who is',\n",
       " 'who’ll': 'who will',\n",
       " 'who’ll’ve': 'who will have',\n",
       " 'who’d': 'who would',\n",
       " 'who’d’ve': 'who would have',\n",
       " 'why’re': 'why are',\n",
       " 'why’d': 'why did',\n",
       " 'why’ve': 'why have',\n",
       " 'why’s': 'why is',\n",
       " 'will’ve': 'will have',\n",
       " 'won’t': 'will not',\n",
       " 'won’t’ve': 'will not have',\n",
       " 'would’ve': 'would have',\n",
       " 'wouldn’t': 'would not',\n",
       " 'wouldn’t’ve': 'would not have',\n",
       " 'y’all': 'you all',\n",
       " 'y’all’re': 'you all are',\n",
       " 'y’all’ve': 'you all have',\n",
       " 'y’all’d': 'you all would',\n",
       " 'y’all’d’ve': 'you all would have',\n",
       " 'you’re': 'you are',\n",
       " 'you’ve': 'you have',\n",
       " 'you’ll’ve': 'you shall have',\n",
       " 'you’ll': 'you will',\n",
       " 'you’d': 'you would',\n",
       " 'you’d’ve': 'you would have'}"
      ]
     },
     "execution_count": 36,
     "metadata": {},
     "output_type": "execute_result"
    }
   ],
   "source": [
    "contractions.contractions_dict"
   ]
  },
  {
   "cell_type": "code",
   "execution_count": 37,
   "id": "09b31657",
   "metadata": {
    "scrolled": true
   },
   "outputs": [
    {
     "name": "stdout",
     "output_type": "stream",
     "text": [
      "why the you.s. presidential election has the entire world confused\n",
      "in: politics , sleuth journal , special interests well, everyone thought it was a sure thing — hillary clinton had the white house in the bag; the entire political system from the dnc to the rnc and the mainstream media had already called the election over and done. online gambling sites listed clinton as a sure bet and irish site paddy power even paid out one million dollars on the assumption of a clinton win. and then, one weiner ruined everything — anthony weiner. the revelation of an october surprise re-opening of the fbi’s investigation into hillary clinton’s misuse of classified data on private and vulnerable email servers does not come as a shock to me, but it certainly does to many people around the world. hundreds of mainstream outlets are scrambling to spin the news as misconduct by the fbi rather than a victory for the halls of justice. numerous alternative media analysts are rushing to cover their butts and admit that there is now a “chance” of a trump win. confusion reigns supreme as the weirdest election in you.s. history continues to bewilder observers. the first issue that needs to be addressed is the lack of an open mind displayed by some when it comes to the real purpose behind this election. the second issue here, of course, is one of timing. through the majority of this election cycle the public consensus has been that clinton will win. some argued that trump would not be able to compete with the leftist media empire standing against him, while others have argued that the entire system including the republican establishment would ensure that trump would fail. the alternative media has in the past simply pointed out that elections have always been rigged, either by the elites playing both sides of the competition, or through outright voter fraud. they have assumed that the elites want clinton, and therefore, the election has already been decided. i tend to agree with the latter point of view, though i disagree with the conclusion. you.s. elections are indeed controlled, and have been for decades, primarily through the false left/right paradigm. however, as i have been pointing out since i correctly predicted the success of the brexit referendum, i do not think that clinton is the choice of the elites. i outline my reasons for this conclusion in-depth in articles like ‘2016 will end with economic instability and a trump presidency’ , published in august. for the past several months it seems as though i have been the only person holding the view that trump will be president. only in the past few days have i received emails from readers stating that they used to think i was probably crazy, but now they are not so sure… to be clear, my position is that trump is slated to take the white house and that this is by design. this has been my position since before trump won the republican primaries, it was my position when the election cycle began, it has never changed, nor have my views on the reasons for this outcome ever changed. of course, the election is not over yet, and if clinton ends up soiling the already thoroughly soiled oval office with her presence, then everyone can color me confused as well. that said, here are some issues that i think many people are overlooking when coming to conclusions on the election and the events surrounding it. clinton is the worst candidate the elites could have chosen i have been studying the activities and behaviors of establishment elites for over a decade and i have to say… they are not stupid. they certainly have hubris, and i would not call them “wise,” but they are definitely devious. they know how to rig a game. they know how to play both sides. they know how to cheat to get what they want when it comes to politics and how to manufacture consent from portions of the public. they have been doing it a long time. they have mastered it. so, in my view it is rather insane for the elites to field a candidate such as hillary clinton if the entirety of their globalist empire hangs in the balance (i do not think it does). though she is fond of bleachbit, the woman is unbleachable. with a decades-long rap sheet from her work at rose law firm (in which document destruction and “misplacement” was apparently routine) to her interference with investigations into bill clinton’s sexual indiscretions, to the strange odyssey surrounding her lies on the benghazi attack, as well as her rampant mishandling of classified documents as head of the state department, not to mention the clinton foundation’s pay to play scandals, it is impossible to endear her to the masses. her dismal crowd turnouts are rather indicative of this. on top of all this, clinton’s anti-russia rhetoric is coming off as absolutely crazy, and i think this is by design. many in the alternative media, while assuming that clinton is paving the way for wwiii, forget that the average person may not be up to speed on the same information we are, but most of them are not ignorant. clinton’s ravings on russian hacking and potential war are even putting liberals off rather than inspiring their confidence. one would think that if the elites have their veritable pick of any politician to represent their interests in the white house and convince the american public to go along for the ride, clinton would be the worst choice. even if the intention were to rig the election in favor of clinton, she would be a lame-duck president the second she took office, and, her mere presence would galvanize conservatives to the point of mass rebellion. this is not generally how the elites play the game. instead, they prefer co-option to direct confrontation. which president is better for the elites during an economic breakdown? if you consider the premise that clinton is not the chosen one, and that the entire election is theater, the situation changes rather drastically. those that follow the underlying economic data that the mainstream tends to ignore know that large swaths of the global financial system are not long for this world. with europe’s banking system plunging towards a lehman-style event, the opec production freeze deal ready to fall apart yet again, and the federal reserve threatening to raise rates into recessionary conditions in december, our already floundering fiscal structure is approaching another crisis. my questions has always been who would the elites rather have in office when this crisis occurs? i have said it a hundred times before and i will say it again here: with clinton in office, globalists and international financiers get the blame for any economic downturn. with trump in office, conservative movements will be blamed. in fact, i suggest anyone who doubts this scenario watch stock market reactions every time trump rises in the polls or clinton faces renewed scandal. the narrative is already being prepared — a trump win equals a market loss. for those that think it outlandish that the public could be tricked into blaming trump and conservatives for an economic crisis, i suggest they consider that possession is nine-tenths of the law in the minds of many. people can also be irrational when facing financial ruin. i would remind readers that history is written by the victors. the globalists plan to be victorious in the dismantling of america and our founding principles. whether or not they succeed is really up to average conservatives and liberty proponents, not trump. the fbi’s move prepares the way for trump clinton and the dnc argue that fbi director james comey’s announcement of a re-opened investigation is politically motivated. and they are right, sort of. the real motivation, i believe, is that clinton was never meant to win the election in the first place, and that the elites want trump placed in power during the final hours of the you.s. economy. everything else is just a kabuki dance. the democrats are crying foul and accusing comey of “working with putin,” or working with the alt-right. the nefarious harry reid has even accused the fbi of hiding trump’s supposed ties to the russian government and violating the hatch act. i think much of this outrage is real, as i believe much of the mainstream media attacks on trump are coming from people who really think they are waging a propaganda war to get hillary clinton elected. this, however, does not mean that the elites plan to install clinton. some might see my position as bizarre. i understand. but equally bizarre to me are some of the rationalizations people attempt to argue when dealing with the comey revelation. for example, the argument that the entire re-opening of the investigation is a complex ploy designed by the establishment to distract away from the wikileaks data dumps. this makes little sense. if anything, the re-opening investigation is only bringing more attention to the wikileaks data, not less. if the elites were hoping to create a distraction, they failed miserably. the fbi’s announcement only harms the clinton campaign. period. even if it fizzles out, even if they announce that nothing was found, the investigation hitting the news streams so close to election day refocuses all public attention back on clinton’s corruption and will continue to do so for the next week at least. the idea that the elites hope to use it to help clinton is nonsensical. i have also seen the argument that comey is acting to cover his own posterior, perhaps because of a fear that trump may steal away a victory. i find this equally absurd. months back the consensus among alternative analysts was that comey (placed in the fbi by obama) was a traitor and the fbi was a puppet agency of the establishment. now, suddenly, comey is worried about a possible trump win and so takes an action which might self-fulfill the prophecy? comey does what he is told. the fbi is an owned and operated elitist franchise. they do not go rogue. if the rogue fbi narrative were true and comey actually feels the need to cover his bases with trump, then it is only because he knows something the rest of us do not. with clinton in office, his goose would be cooked after this little incident. comey only gains an advantage if trump is slated to win. trump may or may not be aware of the plan the bottom line, according to the evidence i have seen in terms of elitists influence over you.s. elections, is that if trump wins it will only be because they wanted him to win. the fbi firestorm this past week appears to support my view and we still have another week left for further clinton ugliness to be revealed. i also expect that if trump wins, the reaction from conservatives and liberty activists will be that the event was a “miracle,” a shocking upset against the establishment. much like the reaction to the brexit referendum. i continue to hold that conservatives and sovereignty champions in europe and america are being set up to take the fall for a coming global destabilization. i have not taken this position just to be contrary. if i think about it honestly, my position is truly a losing position. if i am mistaken and clinton wins on the 8th then i will probably never hear the end of it, but that is a risk that has to be taken, because what i see here is a move on the chess board that others are not considering. if i am wrong, then i am wrong. that said, if i am right, then i still lose, because trump supporters and half the liberty movement will be so enraptured that they will probably ignore the greater issue — that trump is the candidate the elites wanted all along. if i am right, i cannot say either way if trump is aware that he will be a potential scapegoat for the elites. with trump on the way to the white house i can guarantee a fed rate hike in december. imagine what a staged war between trump and the federal reserve will do to the you.s. dollar? what a way to destroy the currency’s world reserve status and make way for the imf’s special drawing rights! i also suspect that widespread rioting is on the schedule as well from various social justice mobs; a perfect excuse for expansive martial law measures, do not you think? the point is, as horrifying as a clinton presidency might be to conservatives (or to everyone), do not get too comfortable under trump. the party is just getting started and our vigilance must be even greater with a conservative white house, because, like it or not, everything trump does is going to reflect on us. we can no more allow unconstitutional activities under trump than we could under clinton. if you think the election has been chaotic and confusing so far, just wait until after it is over. if you would like to support the publishing of articles like the one you have just read, visit our donations page here . we greatly appreciate your patronage. article first posted at alt-market.com submit your review\n"
     ]
    }
   ],
   "source": [
    "contract_titles = [\" \".join([contractions.fix(word) for word in title.split()]) for title in no_num_titles]\n",
    "contract_contents = [\" \".join([contractions.fix(word) for word in content.split()]) for content in no_num_contents]\n",
    "\n",
    "print(contract_titles[0], contract_contents[0], sep='\\n')"
   ]
  },
  {
   "cell_type": "markdown",
   "id": "62717f72",
   "metadata": {},
   "source": [
    "<h2 style=\"font-size: 24px; text-align: center; font-style: italic;\">Removing Punctuations<i>"
   ]
  },
  {
   "cell_type": "code",
   "execution_count": 38,
   "id": "116e85f1",
   "metadata": {
    "scrolled": true
   },
   "outputs": [
    {
     "name": "stdout",
     "output_type": "stream",
     "text": [
      "why the yous presidential election has the entire world confused\n",
      "in politics  sleuth journal  special interests well everyone thought it was a sure thing  hillary clinton had the white house in the bag the entire political system from the dnc to the rnc and the mainstream media had already called the election over and done online gambling sites listed clinton as a sure bet and irish site paddy power even paid out one million dollars on the assumption of a clinton win and then one weiner ruined everything  anthony weiner the revelation of an october surprise reopening of the fbis investigation into hillary clintons misuse of classified data on private and vulnerable email servers does not come as a shock to me but it certainly does to many people around the world hundreds of mainstream outlets are scrambling to spin the news as misconduct by the fbi rather than a victory for the halls of justice numerous alternative media analysts are rushing to cover their butts and admit that there is now a chance of a trump win confusion reigns supreme as the weirdest election in yous history continues to bewilder observers the first issue that needs to be addressed is the lack of an open mind displayed by some when it comes to the real purpose behind this election the second issue here of course is one of timing through the majority of this election cycle the public consensus has been that clinton will win some argued that trump would not be able to compete with the leftist media empire standing against him while others have argued that the entire system including the republican establishment would ensure that trump would fail the alternative media has in the past simply pointed out that elections have always been rigged either by the elites playing both sides of the competition or through outright voter fraud they have assumed that the elites want clinton and therefore the election has already been decided i tend to agree with the latter point of view though i disagree with the conclusion yous elections are indeed controlled and have been for decades primarily through the false leftright paradigm however as i have been pointing out since i correctly predicted the success of the brexit referendum i do not think that clinton is the choice of the elites i outline my reasons for this conclusion indepth in articles like  will end with economic instability and a trump presidency  published in august for the past several months it seems as though i have been the only person holding the view that trump will be president only in the past few days have i received emails from readers stating that they used to think i was probably crazy but now they are not so sure to be clear my position is that trump is slated to take the white house and that this is by design this has been my position since before trump won the republican primaries it was my position when the election cycle began it has never changed nor have my views on the reasons for this outcome ever changed of course the election is not over yet and if clinton ends up soiling the already thoroughly soiled oval office with her presence then everyone can color me confused as well that said here are some issues that i think many people are overlooking when coming to conclusions on the election and the events surrounding it clinton is the worst candidate the elites could have chosen i have been studying the activities and behaviors of establishment elites for over a decade and i have to say they are not stupid they certainly have hubris and i would not call them wise but they are definitely devious they know how to rig a game they know how to play both sides they know how to cheat to get what they want when it comes to politics and how to manufacture consent from portions of the public they have been doing it a long time they have mastered it so in my view it is rather insane for the elites to field a candidate such as hillary clinton if the entirety of their globalist empire hangs in the balance i do not think it does though she is fond of bleachbit the woman is unbleachable with a decadeslong rap sheet from her work at rose law firm in which document destruction and misplacement was apparently routine to her interference with investigations into bill clintons sexual indiscretions to the strange odyssey surrounding her lies on the benghazi attack as well as her rampant mishandling of classified documents as head of the state department not to mention the clinton foundations pay to play scandals it is impossible to endear her to the masses her dismal crowd turnouts are rather indicative of this on top of all this clintons antirussia rhetoric is coming off as absolutely crazy and i think this is by design many in the alternative media while assuming that clinton is paving the way for wwiii forget that the average person may not be up to speed on the same information we are but most of them are not ignorant clintons ravings on russian hacking and potential war are even putting liberals off rather than inspiring their confidence one would think that if the elites have their veritable pick of any politician to represent their interests in the white house and convince the american public to go along for the ride clinton would be the worst choice even if the intention were to rig the election in favor of clinton she would be a lameduck president the second she took office and her mere presence would galvanize conservatives to the point of mass rebellion this is not generally how the elites play the game instead they prefer cooption to direct confrontation which president is better for the elites during an economic breakdown if you consider the premise that clinton is not the chosen one and that the entire election is theater the situation changes rather drastically those that follow the underlying economic data that the mainstream tends to ignore know that large swaths of the global financial system are not long for this world with europes banking system plunging towards a lehmanstyle event the opec production freeze deal ready to fall apart yet again and the federal reserve threatening to raise rates into recessionary conditions in december our already floundering fiscal structure is approaching another crisis my questions has always been who would the elites rather have in office when this crisis occurs i have said it a hundred times before and i will say it again here with clinton in office globalists and international financiers get the blame for any economic downturn with trump in office conservative movements will be blamed in fact i suggest anyone who doubts this scenario watch stock market reactions every time trump rises in the polls or clinton faces renewed scandal the narrative is already being prepared  a trump win equals a market loss for those that think it outlandish that the public could be tricked into blaming trump and conservatives for an economic crisis i suggest they consider that possession is ninetenths of the law in the minds of many people can also be irrational when facing financial ruin i would remind readers that history is written by the victors the globalists plan to be victorious in the dismantling of america and our founding principles whether or not they succeed is really up to average conservatives and liberty proponents not trump the fbis move prepares the way for trump clinton and the dnc argue that fbi director james comeys announcement of a reopened investigation is politically motivated and they are right sort of the real motivation i believe is that clinton was never meant to win the election in the first place and that the elites want trump placed in power during the final hours of the yous economy everything else is just a kabuki dance the democrats are crying foul and accusing comey of working with putin or working with the altright the nefarious harry reid has even accused the fbi of hiding trumps supposed ties to the russian government and violating the hatch act i think much of this outrage is real as i believe much of the mainstream media attacks on trump are coming from people who really think they are waging a propaganda war to get hillary clinton elected this however does not mean that the elites plan to install clinton some might see my position as bizarre i understand but equally bizarre to me are some of the rationalizations people attempt to argue when dealing with the comey revelation for example the argument that the entire reopening of the investigation is a complex ploy designed by the establishment to distract away from the wikileaks data dumps this makes little sense if anything the reopening investigation is only bringing more attention to the wikileaks data not less if the elites were hoping to create a distraction they failed miserably the fbis announcement only harms the clinton campaign period even if it fizzles out even if they announce that nothing was found the investigation hitting the news streams so close to election day refocuses all public attention back on clintons corruption and will continue to do so for the next week at least the idea that the elites hope to use it to help clinton is nonsensical i have also seen the argument that comey is acting to cover his own posterior perhaps because of a fear that trump may steal away a victory i find this equally absurd months back the consensus among alternative analysts was that comey placed in the fbi by obama was a traitor and the fbi was a puppet agency of the establishment now suddenly comey is worried about a possible trump win and so takes an action which might selffulfill the prophecy comey does what he is told the fbi is an owned and operated elitist franchise they do not go rogue if the rogue fbi narrative were true and comey actually feels the need to cover his bases with trump then it is only because he knows something the rest of us do not with clinton in office his goose would be cooked after this little incident comey only gains an advantage if trump is slated to win trump may or may not be aware of the plan the bottom line according to the evidence i have seen in terms of elitists influence over yous elections is that if trump wins it will only be because they wanted him to win the fbi firestorm this past week appears to support my view and we still have another week left for further clinton ugliness to be revealed i also expect that if trump wins the reaction from conservatives and liberty activists will be that the event was a miracle a shocking upset against the establishment much like the reaction to the brexit referendum i continue to hold that conservatives and sovereignty champions in europe and america are being set up to take the fall for a coming global destabilization i have not taken this position just to be contrary if i think about it honestly my position is truly a losing position if i am mistaken and clinton wins on the th then i will probably never hear the end of it but that is a risk that has to be taken because what i see here is a move on the chess board that others are not considering if i am wrong then i am wrong that said if i am right then i still lose because trump supporters and half the liberty movement will be so enraptured that they will probably ignore the greater issue  that trump is the candidate the elites wanted all along if i am right i cannot say either way if trump is aware that he will be a potential scapegoat for the elites with trump on the way to the white house i can guarantee a fed rate hike in december imagine what a staged war between trump and the federal reserve will do to the yous dollar what a way to destroy the currencys world reserve status and make way for the imfs special drawing rights i also suspect that widespread rioting is on the schedule as well from various social justice mobs a perfect excuse for expansive martial law measures do not you think the point is as horrifying as a clinton presidency might be to conservatives or to everyone do not get too comfortable under trump the party is just getting started and our vigilance must be even greater with a conservative white house because like it or not everything trump does is going to reflect on us we can no more allow unconstitutional activities under trump than we could under clinton if you think the election has been chaotic and confusing so far just wait until after it is over if you would like to support the publishing of articles like the one you have just read visit our donations page here  we greatly appreciate your patronage article first posted at altmarketcom submit your review\n"
     ]
    }
   ],
   "source": [
    "no_punct_titles = [\"\".join([character for character in title if character.isalpha() or character==' ']) for title in contract_titles]\n",
    "no_punct_contents = [\"\".join([character for character in content if character.isalpha() or character==' ']) for content in contract_contents]\n",
    "\n",
    "print(no_punct_titles[0], no_punct_contents[0], sep='\\n')"
   ]
  },
  {
   "cell_type": "markdown",
   "id": "27d580f1",
   "metadata": {},
   "source": [
    "<h2 style=\"font-size: 24px; text-align: center; font-style: italic;\">Lemmatization<i>"
   ]
  },
  {
   "cell_type": "code",
   "execution_count": 39,
   "id": "074985d9",
   "metadata": {
    "scrolled": true
   },
   "outputs": [
    {
     "name": "stdout",
     "output_type": "stream",
     "text": [
      "why the yous presidential election have the entire world confuse\n",
      "in politics sleuth journal special interest well everyone think it be a sure thing hillary clinton have the white house in the bag the entire political system from the dnc to the rnc and the mainstream media have already call the election over and do online gamble sit list clinton as a sure bet and irish site paddy power even pay out one million dollars on the assumption of a clinton win and then one weiner ruin everything anthony weiner the revelation of an october surprise reopen of the fbis investigation into hillary clintons misuse of classify data on private and vulnerable email servers do not come as a shock to me but it certainly do to many people around the world hundreds of mainstream outlets be scramble to spin the news as misconduct by the fbi rather than a victory for the halls of justice numerous alternative media analysts be rush to cover their butt and admit that there be now a chance of a trump win confusion reign supreme as the weirdest election in yous history continue to bewilder observers the first issue that need to be address be the lack of an open mind display by some when it come to the real purpose behind this election the second issue here of course be one of time through the majority of this election cycle the public consensus have be that clinton will win some argue that trump would not be able to compete with the leftist media empire stand against him while others have argue that the entire system include the republican establishment would ensure that trump would fail the alternative media have in the past simply point out that elections have always be rig either by the elites play both side of the competition or through outright voter fraud they have assume that the elites want clinton and therefore the election have already be decide i tend to agree with the latter point of view though i disagree with the conclusion yous elections be indeed control and have be for decades primarily through the false leftright paradigm however as i have be point out since i correctly predict the success of the brexit referendum i do not think that clinton be the choice of the elites i outline my reason for this conclusion indepth in article like will end with economic instability and a trump presidency publish in august for the past several months it seem as though i have be the only person hold the view that trump will be president only in the past few days have i receive email from readers state that they use to think i be probably crazy but now they be not so sure to be clear my position be that trump be slat to take the white house and that this be by design this have be my position since before trump win the republican primaries it be my position when the election cycle begin it have never change nor have my view on the reason for this outcome ever change of course the election be not over yet and if clinton end up soil the already thoroughly soil oval office with her presence then everyone can color me confuse as well that say here be some issue that i think many people be overlook when come to conclusions on the election and the events surround it clinton be the worst candidate the elites could have choose i have be study the activities and behaviors of establishment elites for over a decade and i have to say they be not stupid they certainly have hubris and i would not call them wise but they be definitely devious they know how to rig a game they know how to play both side they know how to cheat to get what they want when it come to politics and how to manufacture consent from portion of the public they have be do it a long time they have master it so in my view it be rather insane for the elites to field a candidate such as hillary clinton if the entirety of their globalist empire hang in the balance i do not think it do though she be fond of bleachbit the woman be unbleachable with a decadeslong rap sheet from her work at rise law firm in which document destruction and misplacement be apparently routine to her interference with investigations into bill clintons sexual indiscretions to the strange odyssey surround her lie on the benghazi attack as well as her rampant mishandle of classify document as head of the state department not to mention the clinton foundations pay to play scandals it be impossible to endear her to the mass her dismal crowd turnouts be rather indicative of this on top of all this clintons antirussia rhetoric be come off as absolutely crazy and i think this be by design many in the alternative media while assume that clinton be pave the way for wwiii forget that the average person may not be up to speed on the same information we be but most of them be not ignorant clintons rave on russian hack and potential war be even put liberals off rather than inspire their confidence one would think that if the elites have their veritable pick of any politician to represent their interest in the white house and convince the american public to go along for the ride clinton would be the worst choice even if the intention be to rig the election in favor of clinton she would be a lameduck president the second she take office and her mere presence would galvanize conservatives to the point of mass rebellion this be not generally how the elites play the game instead they prefer cooption to direct confrontation which president be better for the elites during an economic breakdown if you consider the premise that clinton be not the choose one and that the entire election be theater the situation change rather drastically those that follow the underlie economic data that the mainstream tend to ignore know that large swaths of the global financial system be not long for this world with europes bank system plunge towards a lehmanstyle event the opec production freeze deal ready to fall apart yet again and the federal reserve threaten to raise rat into recessionary condition in december our already flounder fiscal structure be approach another crisis my question have always be who would the elites rather have in office when this crisis occur i have say it a hundred time before and i will say it again here with clinton in office globalists and international financier get the blame for any economic downturn with trump in office conservative movements will be blame in fact i suggest anyone who doubt this scenario watch stock market reactions every time trump rise in the poll or clinton face renew scandal the narrative be already be prepare a trump win equal a market loss for those that think it outlandish that the public could be trick into blame trump and conservatives for an economic crisis i suggest they consider that possession be ninetenths of the law in the mind of many people can also be irrational when face financial ruin i would remind readers that history be write by the victors the globalists plan to be victorious in the dismantle of america and our found principles whether or not they succeed be really up to average conservatives and liberty proponents not trump the fbis move prepare the way for trump clinton and the dnc argue that fbi director jam comeys announcement of a reopen investigation be politically motivate and they be right sort of the real motivation i believe be that clinton be never mean to win the election in the first place and that the elites want trump place in power during the final hours of the yous economy everything else be just a kabuki dance the democrats be cry foul and accuse comey of work with putin or work with the altright the nefarious harry reid have even accuse the fbi of hide trump suppose tie to the russian government and violate the hatch act i think much of this outrage be real as i believe much of the mainstream media attack on trump be come from people who really think they be wag a propaganda war to get hillary clinton elect this however do not mean that the elites plan to install clinton some might see my position as bizarre i understand but equally bizarre to me be some of the rationalizations people attempt to argue when deal with the comey revelation for example the argument that the entire reopen of the investigation be a complex ploy design by the establishment to distract away from the wikileaks data dump this make little sense if anything the reopen investigation be only bring more attention to the wikileaks data not less if the elites be hop to create a distraction they fail miserably the fbis announcement only harm the clinton campaign period even if it fizzle out even if they announce that nothing be find the investigation hit the news stream so close to election day refocus all public attention back on clintons corruption and will continue to do so for the next week at least the idea that the elites hope to use it to help clinton be nonsensical i have also see the argument that comey be act to cover his own posterior perhaps because of a fear that trump may steal away a victory i find this equally absurd months back the consensus among alternative analysts be that comey place in the fbi by obama be a traitor and the fbi be a puppet agency of the establishment now suddenly comey be worry about a possible trump win and so take an action which might selffulfill the prophecy comey do what he be tell the fbi be an own and operate elitist franchise they do not go rogue if the rogue fbi narrative be true and comey actually feel the need to cover his base with trump then it be only because he know something the rest of us do not with clinton in office his goose would be cook after this little incident comey only gain an advantage if trump be slat to win trump may or may not be aware of the plan the bottom line accord to the evidence i have see in term of elitists influence over yous elections be that if trump win it will only be because they want him to win the fbi firestorm this past week appear to support my view and we still have another week leave for further clinton ugliness to be reveal i also expect that if trump win the reaction from conservatives and liberty activists will be that the event be a miracle a shock upset against the establishment much like the reaction to the brexit referendum i continue to hold that conservatives and sovereignty champion in europe and america be be set up to take the fall for a come global destabilization i have not take this position just to be contrary if i think about it honestly my position be truly a lose position if i be mistake and clinton win on the th then i will probably never hear the end of it but that be a risk that have to be take because what i see here be a move on the chess board that others be not consider if i be wrong then i be wrong that say if i be right then i still lose because trump supporters and half the liberty movement will be so enrapture that they will probably ignore the greater issue that trump be the candidate the elites want all along if i be right i cannot say either way if trump be aware that he will be a potential scapegoat for the elites with trump on the way to the white house i can guarantee a feed rate hike in december imagine what a stag war between trump and the federal reserve will do to the yous dollar what a way to destroy the currencys world reserve status and make way for the imfs special draw right i also suspect that widespread riot be on the schedule as well from various social justice mob a perfect excuse for expansive martial law measure do not you think the point be as horrify as a clinton presidency might be to conservatives or to everyone do not get too comfortable under trump the party be just get start and our vigilance must be even greater with a conservative white house because like it or not everything trump do be go to reflect on us we can no more allow unconstitutional activities under trump than we could under clinton if you think the election have be chaotic and confuse so far just wait until after it be over if you would like to support the publish of article like the one you have just read visit our donations page here we greatly appreciate your patronage article first post at altmarketcom submit your review\n"
     ]
    }
   ],
   "source": [
    "lemmatizer = WordNetLemmatizer()\n",
    "lem_title_adj = [\" \".join([lemmatizer.lemmatize(word, wordnet.ADJ) for word in title.split()]) for title in no_punct_titles]\n",
    "lem_content_adj = [\" \".join([lemmatizer.lemmatize(word, wordnet.ADJ) for word in content.split()]) for content in no_punct_contents]\n",
    "\n",
    "lem_title_adjsat = [\" \".join([lemmatizer.lemmatize(word, wordnet.ADJ_SAT) for word in title.split()]) for title in no_punct_titles]\n",
    "lem_content_adjsat = [\" \".join([lemmatizer.lemmatize(word, wordnet.ADJ_SAT) for word in content.split()]) for content in no_punct_contents]\n",
    "\n",
    "lem_title_adv = [\" \".join([lemmatizer.lemmatize(word, wordnet.ADV) for word in title.split()]) for title in no_punct_titles]\n",
    "lem_content_adv = [\" \".join([lemmatizer.lemmatize(word, wordnet.ADV) for word in content.split()]) for content in no_punct_contents]\n",
    "\n",
    "lem_title_noun = [\" \".join([lemmatizer.lemmatize(word, wordnet.NOUN) for word in title.split()]) for title in no_punct_titles]\n",
    "lem_content_noun = [\" \".join([lemmatizer.lemmatize(word, wordnet.NOUN) for word in content.split()]) for content in no_punct_contents]\n",
    "\n",
    "lem_title_verb= [\" \".join([lemmatizer.lemmatize(word, wordnet.VERB) for word in title.split()]) for title in no_punct_titles]\n",
    "lem_content_verb = [\" \".join([lemmatizer.lemmatize(word, wordnet.VERB) for word in content.split()]) for content in no_punct_contents]\n",
    "\n",
    "lem_titles = lem_title_verb\n",
    "lem_contents = lem_content_verb\n",
    "print(lem_titles[0], lem_contents[0], sep='\\n')"
   ]
  },
  {
   "cell_type": "markdown",
   "id": "306d79a8",
   "metadata": {},
   "source": [
    "<h2 style=\"font-size: 24px; text-align: center; font-style: italic;\">Joining Title And Content<i>"
   ]
  },
  {
   "cell_type": "code",
   "execution_count": 40,
   "id": "e350ba46",
   "metadata": {
    "scrolled": true
   },
   "outputs": [
    {
     "data": {
      "text/plain": [
       "'why the yous presidential election have the entire world confusein politics sleuth journal special interest well everyone think it be a sure thing hillary clinton have the white house in the bag the entire political system from the dnc to the rnc and the mainstream media have already call the election over and do online gamble sit list clinton as a sure bet and irish site paddy power even pay out one million dollars on the assumption of a clinton win and then one weiner ruin everything anthony weiner the revelation of an october surprise reopen of the fbis investigation into hillary clintons misuse of classify data on private and vulnerable email servers do not come as a shock to me but it certainly do to many people around the world hundreds of mainstream outlets be scramble to spin the news as misconduct by the fbi rather than a victory for the halls of justice numerous alternative media analysts be rush to cover their butt and admit that there be now a chance of a trump win confusion reign supreme as the weirdest election in yous history continue to bewilder observers the first issue that need to be address be the lack of an open mind display by some when it come to the real purpose behind this election the second issue here of course be one of time through the majority of this election cycle the public consensus have be that clinton will win some argue that trump would not be able to compete with the leftist media empire stand against him while others have argue that the entire system include the republican establishment would ensure that trump would fail the alternative media have in the past simply point out that elections have always be rig either by the elites play both side of the competition or through outright voter fraud they have assume that the elites want clinton and therefore the election have already be decide i tend to agree with the latter point of view though i disagree with the conclusion yous elections be indeed control and have be for decades primarily through the false leftright paradigm however as i have be point out since i correctly predict the success of the brexit referendum i do not think that clinton be the choice of the elites i outline my reason for this conclusion indepth in article like will end with economic instability and a trump presidency publish in august for the past several months it seem as though i have be the only person hold the view that trump will be president only in the past few days have i receive email from readers state that they use to think i be probably crazy but now they be not so sure to be clear my position be that trump be slat to take the white house and that this be by design this have be my position since before trump win the republican primaries it be my position when the election cycle begin it have never change nor have my view on the reason for this outcome ever change of course the election be not over yet and if clinton end up soil the already thoroughly soil oval office with her presence then everyone can color me confuse as well that say here be some issue that i think many people be overlook when come to conclusions on the election and the events surround it clinton be the worst candidate the elites could have choose i have be study the activities and behaviors of establishment elites for over a decade and i have to say they be not stupid they certainly have hubris and i would not call them wise but they be definitely devious they know how to rig a game they know how to play both side they know how to cheat to get what they want when it come to politics and how to manufacture consent from portion of the public they have be do it a long time they have master it so in my view it be rather insane for the elites to field a candidate such as hillary clinton if the entirety of their globalist empire hang in the balance i do not think it do though she be fond of bleachbit the woman be unbleachable with a decadeslong rap sheet from her work at rise law firm in which document destruction and misplacement be apparently routine to her interference with investigations into bill clintons sexual indiscretions to the strange odyssey surround her lie on the benghazi attack as well as her rampant mishandle of classify document as head of the state department not to mention the clinton foundations pay to play scandals it be impossible to endear her to the mass her dismal crowd turnouts be rather indicative of this on top of all this clintons antirussia rhetoric be come off as absolutely crazy and i think this be by design many in the alternative media while assume that clinton be pave the way for wwiii forget that the average person may not be up to speed on the same information we be but most of them be not ignorant clintons rave on russian hack and potential war be even put liberals off rather than inspire their confidence one would think that if the elites have their veritable pick of any politician to represent their interest in the white house and convince the american public to go along for the ride clinton would be the worst choice even if the intention be to rig the election in favor of clinton she would be a lameduck president the second she take office and her mere presence would galvanize conservatives to the point of mass rebellion this be not generally how the elites play the game instead they prefer cooption to direct confrontation which president be better for the elites during an economic breakdown if you consider the premise that clinton be not the choose one and that the entire election be theater the situation change rather drastically those that follow the underlie economic data that the mainstream tend to ignore know that large swaths of the global financial system be not long for this world with europes bank system plunge towards a lehmanstyle event the opec production freeze deal ready to fall apart yet again and the federal reserve threaten to raise rat into recessionary condition in december our already flounder fiscal structure be approach another crisis my question have always be who would the elites rather have in office when this crisis occur i have say it a hundred time before and i will say it again here with clinton in office globalists and international financier get the blame for any economic downturn with trump in office conservative movements will be blame in fact i suggest anyone who doubt this scenario watch stock market reactions every time trump rise in the poll or clinton face renew scandal the narrative be already be prepare a trump win equal a market loss for those that think it outlandish that the public could be trick into blame trump and conservatives for an economic crisis i suggest they consider that possession be ninetenths of the law in the mind of many people can also be irrational when face financial ruin i would remind readers that history be write by the victors the globalists plan to be victorious in the dismantle of america and our found principles whether or not they succeed be really up to average conservatives and liberty proponents not trump the fbis move prepare the way for trump clinton and the dnc argue that fbi director jam comeys announcement of a reopen investigation be politically motivate and they be right sort of the real motivation i believe be that clinton be never mean to win the election in the first place and that the elites want trump place in power during the final hours of the yous economy everything else be just a kabuki dance the democrats be cry foul and accuse comey of work with putin or work with the altright the nefarious harry reid have even accuse the fbi of hide trump suppose tie to the russian government and violate the hatch act i think much of this outrage be real as i believe much of the mainstream media attack on trump be come from people who really think they be wag a propaganda war to get hillary clinton elect this however do not mean that the elites plan to install clinton some might see my position as bizarre i understand but equally bizarre to me be some of the rationalizations people attempt to argue when deal with the comey revelation for example the argument that the entire reopen of the investigation be a complex ploy design by the establishment to distract away from the wikileaks data dump this make little sense if anything the reopen investigation be only bring more attention to the wikileaks data not less if the elites be hop to create a distraction they fail miserably the fbis announcement only harm the clinton campaign period even if it fizzle out even if they announce that nothing be find the investigation hit the news stream so close to election day refocus all public attention back on clintons corruption and will continue to do so for the next week at least the idea that the elites hope to use it to help clinton be nonsensical i have also see the argument that comey be act to cover his own posterior perhaps because of a fear that trump may steal away a victory i find this equally absurd months back the consensus among alternative analysts be that comey place in the fbi by obama be a traitor and the fbi be a puppet agency of the establishment now suddenly comey be worry about a possible trump win and so take an action which might selffulfill the prophecy comey do what he be tell the fbi be an own and operate elitist franchise they do not go rogue if the rogue fbi narrative be true and comey actually feel the need to cover his base with trump then it be only because he know something the rest of us do not with clinton in office his goose would be cook after this little incident comey only gain an advantage if trump be slat to win trump may or may not be aware of the plan the bottom line accord to the evidence i have see in term of elitists influence over yous elections be that if trump win it will only be because they want him to win the fbi firestorm this past week appear to support my view and we still have another week leave for further clinton ugliness to be reveal i also expect that if trump win the reaction from conservatives and liberty activists will be that the event be a miracle a shock upset against the establishment much like the reaction to the brexit referendum i continue to hold that conservatives and sovereignty champion in europe and america be be set up to take the fall for a come global destabilization i have not take this position just to be contrary if i think about it honestly my position be truly a lose position if i be mistake and clinton win on the th then i will probably never hear the end of it but that be a risk that have to be take because what i see here be a move on the chess board that others be not consider if i be wrong then i be wrong that say if i be right then i still lose because trump supporters and half the liberty movement will be so enrapture that they will probably ignore the greater issue that trump be the candidate the elites want all along if i be right i cannot say either way if trump be aware that he will be a potential scapegoat for the elites with trump on the way to the white house i can guarantee a feed rate hike in december imagine what a stag war between trump and the federal reserve will do to the yous dollar what a way to destroy the currencys world reserve status and make way for the imfs special draw right i also suspect that widespread riot be on the schedule as well from various social justice mob a perfect excuse for expansive martial law measure do not you think the point be as horrify as a clinton presidency might be to conservatives or to everyone do not get too comfortable under trump the party be just get start and our vigilance must be even greater with a conservative white house because like it or not everything trump do be go to reflect on us we can no more allow unconstitutional activities under trump than we could under clinton if you think the election have be chaotic and confuse so far just wait until after it be over if you would like to support the publish of article like the one you have just read visit our donations page here we greatly appreciate your patronage article first post at altmarketcom submit your review'"
      ]
     },
     "execution_count": 40,
     "metadata": {},
     "output_type": "execute_result"
    }
   ],
   "source": [
    "texts = [lem_titles[i] + lem_contents[i] for i in range(0, len(lem_titles))]\n",
    "texts[0]"
   ]
  },
  {
   "cell_type": "markdown",
   "id": "659703ca",
   "metadata": {},
   "source": [
    "<h2 style=\"font-size: 24px; text-align: center; font-style: italic;\">Remove Stop-Words And Vectorization<i>"
   ]
  },
  {
   "cell_type": "code",
   "execution_count": 41,
   "id": "df6277d4",
   "metadata": {},
   "outputs": [],
   "source": [
    "x_train, x_test, y_train, y_test = train_test_split(texts, labels, test_size=0.2, random_state=7)"
   ]
  },
  {
   "cell_type": "code",
   "execution_count": 42,
   "id": "e2692896",
   "metadata": {},
   "outputs": [],
   "source": [
    "tfidf_vectorizer = TfidfVectorizer(stop_words='english', max_df=0.7)\n",
    "tfidf_train = tfidf_vectorizer.fit_transform(x_train) \n",
    "tfidf_test = tfidf_vectorizer.transform(x_test)"
   ]
  },
  {
   "cell_type": "code",
   "execution_count": 43,
   "id": "1aacf3f6",
   "metadata": {},
   "outputs": [
    {
     "data": {
      "text/plain": [
       "array([0.09886296, 0.09886296, 0.05053861, ..., 0.07199029, 0.52811487,\n",
       "       0.12469729])"
      ]
     },
     "execution_count": 43,
     "metadata": {},
     "output_type": "execute_result"
    }
   ],
   "source": [
    "tfidf_train.data"
   ]
  },
  {
   "cell_type": "code",
   "execution_count": 44,
   "id": "0e4f018c",
   "metadata": {},
   "outputs": [
    {
     "data": {
      "text/plain": [
       "{'tolerant': 57068,\n",
       " 'liberals': 32065,\n",
       " 'contempt': 11423,\n",
       " 'hatred': 24146,\n",
       " 'nations': 37452,\n",
       " 'black': 6053,\n",
       " 'supreme': 54809,\n",
       " 'court': 12108,\n",
       " 'justicepinterest': 29765,\n",
       " 'quartercentury': 45643,\n",
       " 'justice': 29761,\n",
       " 'clarence': 9816,\n",
       " 'thomas': 56540,\n",
       " 'make': 33506,\n",
       " 'history': 25135,\n",
       " 'second': 50250,\n",
       " 'judge': 29642,\n",
       " 'serve': 50859,\n",
       " 'highest': 24862,\n",
       " 'celebrations': 8786,\n",
       " 'recognition': 46624,\n",
       " 'acknowledgement': 419,\n",
       " 'feat': 19463,\n",
       " 'fact': 18928,\n",
       " 'thomasderangement': 56542,\n",
       " 'daily': 12999,\n",
       " 'caller': 7926,\n",
       " 'abate': 51,\n",
       " 'bite': 6026,\n",
       " 'despite': 14439,\n",
       " 'impact': 26877,\n",
       " 'unequaled': 59074,\n",
       " 'influential': 27542,\n",
       " 'lawmakers': 31498,\n",
       " 'admirers': 691,\n",
       " 'legal': 31731,\n",
       " 'corner': 11742,\n",
       " 'ridicule': 48047,\n",
       " 'belittle': 5348,\n",
       " 'assault': 3655,\n",
       " 'type': 58509,\n",
       " 'disgust': 15091,\n",
       " 'comment': 10711,\n",
       " 'usually': 59953,\n",
       " 'reserve': 47571,\n",
       " 'common': 10755,\n",
       " 'criminals': 12406,\n",
       " 'deviants': 14579,\n",
       " 'write': 62910,\n",
       " 'new': 37926,\n",
       " 'york': 63384,\n",
       " 'time': 56820,\n",
       " 'maureen': 34287,\n",
       " 'dowd': 15832,\n",
       " 'refer': 46879,\n",
       " 'creepy': 12346,\n",
       " 'guy': 23464,\n",
       " 'act': 470,\n",
       " 'pervy': 42249,\n",
       " 'anita': 2346,\n",
       " 'hill': 24957,\n",
       " 'win': 62341,\n",
       " 'barrage': 4861,\n",
       " 'insult': 27921,\n",
       " 'just': 29755,\n",
       " 'intellectual': 27964,\n",
       " 'peer': 41858,\n",
       " 'completely': 10881,\n",
       " 'wipe': 62448,\n",
       " 'clean': 9881,\n",
       " 'mention': 34933,\n",
       " 'smithsonian': 52353,\n",
       " 'national': 37420,\n",
       " 'museum': 37039,\n",
       " 'african': 912,\n",
       " 'american': 1977,\n",
       " 'culture': 12749,\n",
       " 'accuser': 379,\n",
       " 'prominent': 44841,\n",
       " 'display': 15195,\n",
       " 'exhibit': 18488,\n",
       " 'feature': 19466,\n",
       " 'testimonies': 56063,\n",
       " 'trumpet': 57955,\n",
       " 'courage': 12095,\n",
       " 'surge': 54834,\n",
       " 'womens': 62630,\n",
       " 'activism': 492,\n",
       " 'ensue': 17587,\n",
       " 'peripheral': 42083,\n",
       " 'reference': 46882,\n",
       " 'slight': 52195,\n",
       " 'continue': 11472,\n",
       " 'speak': 53024,\n",
       " 'speech': 53100,\n",
       " 'heritage': 24655,\n",
       " 'foundation': 20745,\n",
       " 'warn': 61370,\n",
       " 'destroy': 14464,\n",
       " 'institutions': 27895,\n",
       " 'point': 43244,\n",
       " 'recognize': 46627,\n",
       " 'acknowledge': 418,\n",
       " 'partially': 41415,\n",
       " 'fault': 19336,\n",
       " 'gain': 21485,\n",
       " 'confidence': 11076,\n",
       " 'ask': 3597,\n",
       " 'earn': 16404,\n",
       " 'lone': 32684,\n",
       " 'africanamerican': 913,\n",
       " 'defend': 13796,\n",
       " 'view': 60638,\n",
       " 'prior': 44512,\n",
       " 'precedents': 44006,\n",
       " 'bend': 5403,\n",
       " 'break': 6978,\n",
       " 'comply': 10897,\n",
       " 'constitution': 11332,\n",
       " 'colleagues': 10467,\n",
       " 'believe': 5342,\n",
       " 'lot': 32824,\n",
       " 'change': 9042,\n",
       " 'obligate': 39351,\n",
       " 'rethink': 47755,\n",
       " 'things': 56461,\n",
       " 'constantly': 11318,\n",
       " 'end': 17398,\n",
       " 'positive': 43668,\n",
       " 'word': 62700,\n",
       " 'antonin': 2847,\n",
       " 'scalia': 49731,\n",
       " 'affectionately': 851,\n",
       " 'nino': 38274,\n",
       " 'evenly': 18201,\n",
       " 'divide': 15355,\n",
       " 'conservatives': 11266,\n",
       " 'pronounce': 44872,\n",
       " 'hillary': 24959,\n",
       " 'clinton': 9995,\n",
       " 'presidency': 44265,\n",
       " 'control': 11530,\n",
       " 'replace': 47372,\n",
       " 'choose': 9499,\n",
       " 'dwell': 16318,\n",
       " 'friendship': 21127,\n",
       " 'ponder': 43511,\n",
       " 'future': 21415,\n",
       " 'north': 38805,\n",
       " 'south': 52898,\n",
       " 'wind': 62351,\n",
       " 'place': 42940,\n",
       " 'paramount': 41302,\n",
       " 'importance': 26970,\n",
       " 'individual': 27352,\n",
       " 'freedoms': 20999,\n",
       " 'fret': 21086,\n",
       " 'big': 5782,\n",
       " 'principles': 44498,\n",
       " 'smaller': 52301,\n",
       " 'punctuation': 45362,\n",
       " 'syntax': 55139,\n",
       " 'fear': 19439,\n",
       " 'gay': 21727,\n",
       " 'russiamoscows': 48930,\n",
       " 'pride': 44432,\n",
       " 'parade': 41269,\n",
       " 'hold': 25283,\n",
       " 'thirteen': 56513,\n",
       " 'years': 63234,\n",
       " 'homosexuality': 25424,\n",
       " 'decriminalize': 13715,\n",
       " 'russia': 48912,\n",
       " 'suppose': 54793,\n",
       " 'joyous': 29592,\n",
       " 'occasion': 39444,\n",
       " 'begin': 5249,\n",
       " 'era': 17795,\n",
       " 'openness': 40100,\n",
       " 'lgbt': 32021,\n",
       " 'community': 10797,\n",
       " 'quite': 45768,\n",
       " 'work': 62711,\n",
       " 'way': 61549,\n",
       " 'marchers': 33848,\n",
       " 'day': 13302,\n",
       " 'clash': 9830,\n",
       " 'riot': 48155,\n",
       " 'police': 43298,\n",
       " 'try': 58120,\n",
       " 'stop': 54010,\n",
       " 'event': 18203,\n",
       " 'disturb': 15316,\n",
       " 'deeply': 13748,\n",
       " 'root': 48528,\n",
       " 'russian': 48931,\n",
       " 'society': 52561,\n",
       " 'evil': 18299,\n",
       " 'power': 43870,\n",
       " 'intolerance': 28192,\n",
       " 'violence': 60740,\n",
       " 'nikolai': 38232,\n",
       " 'baev': 4478,\n",
       " 'right': 48073,\n",
       " 'activist': 494,\n",
       " 'attend': 3929,\n",
       " 'march': 33846,\n",
       " 'months': 36310,\n",
       " 'later': 31379,\n",
       " 'saw': 49655,\n",
       " 'regional': 46994,\n",
       " 'antigay': 2602,\n",
       " 'law': 31476,\n",
       " 'pass': 41506,\n",
       " 'ryazan': 49022,\n",
       " 'miles': 35430,\n",
       " 'east': 16451,\n",
       " 'moscow': 36492,\n",
       " 'official': 39605,\n",
       " 'sign': 51703,\n",
       " 'authorities': 4097,\n",
       " 'resist': 47610,\n",
       " 'movementa': 36666,\n",
       " 'resistance': 47611,\n",
       " 'grow': 23193,\n",
       " 'increasingly': 27221,\n",
       " 'violent': 60758,\n",
       " 'decade': 13582,\n",
       " 'hit': 25155,\n",
       " 'dmitry': 15422,\n",
       " 'chizhevsky': 9466,\n",
       " 'november': 38967,\n",
       " 'weekly': 61700,\n",
       " 'meet': 34717,\n",
       " 'friends': 21124,\n",
       " 'rainbow': 45989,\n",
       " 'tea': 55654,\n",
       " 'party': 41460,\n",
       " 'saint': 49211,\n",
       " 'petersburg': 42283,\n",
       " 'socialize': 52553,\n",
       " 'drink': 15985,\n",
       " 'play': 43050,\n",
       " 'game': 21565,\n",
       " 'political': 43368,\n",
       " 'protest': 45042,\n",
       " 'old': 39770,\n",
       " 'town': 57321,\n",
       " 'hectic': 24437,\n",
       " 'feel': 19522,\n",
       " 'weekend': 61697,\n",
       " 'th': 56131,\n",
       " 'annual': 2397,\n",
       " 'citys': 9745,\n",
       " 'gracious': 22810,\n",
       " 'main': 33444,\n",
       " 'streets': 54163,\n",
       " 'crowd': 12558,\n",
       " 'usual': 59952,\n",
       " 'door': 15707,\n",
       " 'wear': 61628,\n",
       " 'mask': 34123,\n",
       " 'recall': 46558,\n",
       " 'hear': 24335,\n",
       " 'shots': 51504,\n",
       " 'eye': 18810,\n",
       " 'yell': 63283,\n",
       " 'run': 48856,\n",
       " 'faggot': 18980,\n",
       " 'baseball': 4919,\n",
       " 'bat': 4982,\n",
       " 'attackers': 3910,\n",
       " 'away': 4225,\n",
       " 'small': 52291,\n",
       " 'ball': 4594,\n",
       " 'pneumatic': 43189,\n",
       " 'pistol': 42882,\n",
       " 'stay': 53728,\n",
       " 'lackluster': 31084,\n",
       " 'investigation': 28282,\n",
       " 'arrest': 3409,\n",
       " 'unsolved': 59545,\n",
       " 'statisticjust': 53703,\n",
       " 'number': 39145,\n",
       " 'russias': 48953,\n",
       " 'attack': 3902,\n",
       " 'harass': 23926,\n",
       " 'unprecedented': 59418,\n",
       " 'crackdown': 12219,\n",
       " 'west': 61924,\n",
       " 'startle': 53560,\n",
       " 'breakthroughs': 6996,\n",
       " 'leave': 31645,\n",
       " 'demonstrably': 14137,\n",
       " 'worse': 62824,\n",
       " 'dangerous': 13102,\n",
       " 'accord': 352,\n",
       " 'dozen': 15887,\n",
       " 'individuals': 27361,\n",
       " 'cities': 9717,\n",
       " 'weeks': 61704,\n",
       " 'report': 47390,\n",
       " 'local': 32570,\n",
       " 'level': 31964,\n",
       " 'series': 50835,\n",
       " 'socalled': 52524,\n",
       " 'propaganda': 44889,\n",
       " 'laws': 31510,\n",
       " 'illegal': 26684,\n",
       " 'discuss': 15046,\n",
       " 'theme': 56239,\n",
       " 'minors': 35674,\n",
       " 'distribute': 15304,\n",
       " 'information': 27561,\n",
       " 'deal': 13432,\n",
       " 'health': 24298,\n",
       " 'issue': 28697,\n",
       " 'country': 12044,\n",
       " 'punish': 45370,\n",
       " 'select': 50414,\n",
       " 'group': 23175,\n",
       " 'toleratedand': 57070,\n",
       " 'encouragedby': 17386,\n",
       " 'state': 53577,\n",
       " 'greater': 22968,\n",
       " 'target': 55488,\n",
       " 'organize': 40328,\n",
       " 'deepseated': 13757,\n",
       " 'homophobia': 25421,\n",
       " 'embed': 17196,\n",
       " 'think': 56469,\n",
       " 'native': 37462,\n",
       " 'land': 31188,\n",
       " 'price': 44423,\n",
       " 'ultimately': 58635,\n",
       " 'high': 24827,\n",
       " 'like': 32248,\n",
       " 'gays': 21741,\n",
       " 'lesbians': 31885,\n",
       " 'sexual': 51006,\n",
       " 'orientation': 40347,\n",
       " 'enemy': 17465,\n",
       " 'know': 30684,\n",
       " 'trauma': 57580,\n",
       " 'use': 59858,\n",
       " 'past': 41541,\n",
       " 'year': 63202,\n",
       " 'opportunities': 40166,\n",
       " 'ahead': 1096,\n",
       " 'want': 61293,\n",
       " 'build': 7445,\n",
       " 'unite': 59273,\n",
       " 'july': 29696,\n",
       " 'little': 32460,\n",
       " 'arrive': 3422,\n",
       " 'selfeducated': 50495,\n",
       " 'software': 52609,\n",
       " 'developer': 14566,\n",
       " 'washington': 61427,\n",
       " 'dc': 13356,\n",
       " 'discover': 15026,\n",
       " 'open': 40084,\n",
       " 'live': 32480,\n",
       " 'decide': 13642,\n",
       " 'life': 32152,\n",
       " 'seek': 50357,\n",
       " 'asylum': 3799,\n",
       " 'trek': 57644,\n",
       " 'yous': 63467,\n",
       " 'applications': 3028,\n",
       " 'russians': 48944,\n",
       " 'rise': 48174,\n",
       " 'percent': 41997,\n",
       " 'overall': 40723,\n",
       " 'case': 8496,\n",
       " 'government': 22714,\n",
       " 'release': 47149,\n",
       " 'reason': 46483,\n",
       " 'people': 41953,\n",
       " 'seekers': 50359,\n",
       " 'spike': 53166,\n",
       " 'result': 47715,\n",
       " 'difficult': 14759,\n",
       " 'document': 15486,\n",
       " 'coffee': 10355,\n",
       " 'busboys': 7617,\n",
       " 'poets': 43235,\n",
       " 'street': 54152,\n",
       " 'northwest': 38819,\n",
       " 'casea': 8497,\n",
       " 'fairly': 19017,\n",
       " 'typical': 58517,\n",
       " 'process': 44622,\n",
       " 'need': 37678,\n",
       " 'prove': 45100,\n",
       " 'danger': 13101,\n",
       " 'home': 25347,\n",
       " 'lucky': 33031,\n",
       " 'ones': 39972,\n",
       " 'activists': 497,\n",
       " 'interview': 28157,\n",
       " 'kazan': 30101,\n",
       " 'archangelsk': 3178,\n",
       " 'pitch': 42890,\n",
       " 'anxiety': 2860,\n",
       " 'sudden': 54517,\n",
       " 'start': 53552,\n",
       " 'sodomites': 52588,\n",
       " 'tatiana': 55552,\n",
       " 'vinnitchenko': 60726,\n",
       " 'lesbian': 31884,\n",
       " 'rakurs': 46033,\n",
       " 'perspective': 42204,\n",
       " 'nonprofit': 38659,\n",
       " 'nongovernmental': 38561,\n",
       " 'organization': 40318,\n",
       " 'provide': 45107,\n",
       " 'advice': 791,\n",
       " 'center': 8846,\n",
       " 'arkhangelsk': 3320,\n",
       " 'lie': 32138,\n",
       " 'site': 51949,\n",
       " 'major': 33483,\n",
       " 'seaport': 50207,\n",
       " 'expect': 18560,\n",
       " 'month': 36303,\n",
       " 'job': 29400,\n",
       " 'professor': 44703,\n",
       " 'northern': 38812,\n",
       " 'arctic': 3218,\n",
       " 'federal': 19483,\n",
       " 'university': 59296,\n",
       " 'language': 31249,\n",
       " 'instructor': 27904,\n",
       " 'ultimatum': 58636,\n",
       " 'activities': 502,\n",
       " 'leonid': 31863,\n",
       " 'shestakov': 51302,\n",
       " 'rector': 46711,\n",
       " 'conversations': 11588,\n",
       " 'personal': 42179,\n",
       " 'nature': 37507,\n",
       " 'focus': 20415,\n",
       " 'performance': 42055,\n",
       " 'duties': 16298,\n",
       " 'ways': 61558,\n",
       " 'naturally': 37503,\n",
       " 'raise': 46005,\n",
       " 'vibrationleave': 60485,\n",
       " 'reply': 47387,\n",
       " 'orly': 40373,\n",
       " 'levy': 31990,\n",
       " 'notice': 38894,\n",
       " 'good': 22557,\n",
       " 'intentionally': 27996,\n",
       " 'energy': 17476,\n",
       " 'allow': 1649,\n",
       " 'relax': 47144,\n",
       " 'enjoy': 17533,\n",
       " 'likely': 32254,\n",
       " 'person': 42174,\n",
       " 'vibration': 60483,\n",
       " 'attract': 3970,\n",
       " 'felt': 19582,\n",
       " 'similarly': 51786,\n",
       " 'vibe': 60477,\n",
       " 'situation': 51963,\n",
       " 'experience': 18590,\n",
       " 'interaction': 28005,\n",
       " 'term': 55945,\n",
       " 'wonder': 62634,\n",
       " 'mean': 34559,\n",
       " 'humans': 26206,\n",
       " 'motion': 36585,\n",
       " 'vibrate': 60482,\n",
       " 'frequency': 21071,\n",
       " 'universe': 59289,\n",
       " 'lighter': 32221,\n",
       " 'stable': 53408,\n",
       " 'love': 32865,\n",
       " 'heaviness': 24407,\n",
       " 'denseness': 14214,\n",
       " 'darkness': 13181,\n",
       " 'lower': 32910,\n",
       " 'zone': 63836,\n",
       " 'radio': 45918,\n",
       " 'station': 53690,\n",
       " 'different': 14752,\n",
       " 'frequencies': 21070,\n",
       " 'tune': 58221,\n",
       " 'listen': 32415,\n",
       " 'order': 40268,\n",
       " 'better': 5642,\n",
       " 'learn': 31621,\n",
       " 'tai': 55288,\n",
       " 'chi': 9335,\n",
       " 'yoga': 63361,\n",
       " 'aware': 4222,\n",
       " 'vibes': 60478,\n",
       " 'moody': 36336,\n",
       " 'upset': 59732,\n",
       " 'heavy': 24408,\n",
       " 'avoid': 4202,\n",
       " 'happy': 23910,\n",
       " 'dislike': 15130,\n",
       " 'low': 32890,\n",
       " 'certain': 8919,\n",
       " 'worst': 62835,\n",
       " 'realize': 46439,\n",
       " 'mercy': 34976,\n",
       " 'mood': 36333,\n",
       " 'field': 19769,\n",
       " 'key': 30261,\n",
       " 'authentically': 4084,\n",
       " 'vibrations': 60486,\n",
       " 'list': 32412,\n",
       " 'breathe': 7010,\n",
       " 'best': 5592,\n",
       " 'clear': 9893,\n",
       " 'create': 12296,\n",
       " 'heart': 24343,\n",
       " 'belly': 5373,\n",
       " 'expand': 18545,\n",
       " 'inhale': 27636,\n",
       " 'contract': 11490,\n",
       " 'exhale': 18481,\n",
       " 'hand': 23789,\n",
       " 'check': 9213,\n",
       " 'fully': 21316,\n",
       " 'exercise': 18468,\n",
       " 'form': 20639,\n",
       " 'rate': 46241,\n",
       " 'fun': 21326,\n",
       " 'force': 20537,\n",
       " 'laugh': 31431,\n",
       " 'laughter': 31437,\n",
       " 'easy': 16476,\n",
       " 'add': 566,\n",
       " 'routine': 48673,\n",
       " 'difference': 14750,\n",
       " 'watch': 61477,\n",
       " 'cartoon': 8472,\n",
       " 'light': 32215,\n",
       " 'cozy': 12195,\n",
       " 'remind': 47233,\n",
       " 'kid': 30387,\n",
       " 'safe': 49139,\n",
       " 'carry': 8448,\n",
       " 'message': 35041,\n",
       " 'protection': 45019,\n",
       " 'affirmations': 863,\n",
       " 'recite': 46612,\n",
       " 'conscious': 11226,\n",
       " 'mind': 35582,\n",
       " 'desire': 14411,\n",
       " 'possible': 43685,\n",
       " 'shin': 51349,\n",
       " 'truth': 58069,\n",
       " 'pray': 43974,\n",
       " 'prayer': 43975,\n",
       " 'practice': 43939,\n",
       " 'religious': 47183,\n",
       " 'set': 50894,\n",
       " 'connect': 11183,\n",
       " 'guidance': 23311,\n",
       " 'thank': 56142,\n",
       " 'god': 22409,\n",
       " 'dress': 15971,\n",
       " 'nice': 38106,\n",
       " 'red': 46720,\n",
       " 'lip': 32382,\n",
       " 'stick': 53895,\n",
       " 'sexy': 51010,\n",
       " 'feminine': 19593,\n",
       " 'count': 11959,\n",
       " 'bless': 6178,\n",
       " 'grateful': 22926,\n",
       " 'gratitude': 22932,\n",
       " 'support': 54774,\n",
       " 'abundance': 261,\n",
       " 'present': 44243,\n",
       " 'fastest': 19272,\n",
       " 'return': 47799,\n",
       " 'owe': 40904,\n",
       " 'share': 51152,\n",
       " 'tell': 55825,\n",
       " 'unconditionally': 58849,\n",
       " 'matter': 34234,\n",
       " 'loud': 32833,\n",
       " 'close': 10118,\n",
       " 'ounce': 40521,\n",
       " 'remember': 47227,\n",
       " 'receive': 46570,\n",
       " 'spoil': 53225,\n",
       " 'save': 49636,\n",
       " 'worthy': 62844,\n",
       " 'excite': 18408,\n",
       " 'tenfold': 55893,\n",
       " 'lead': 31570,\n",
       " 'free': 20981,\n",
       " 'follow': 20458,\n",
       " 'help': 24553,\n",
       " 'positively': 43670,\n",
       " 'radiate': 45905,\n",
       " 'touch': 57278,\n",
       " 'entire': 17619,\n",
       " 'planet': 42977,\n",
       " 'suck': 54506,\n",
       " 'elses': 17128,\n",
       " 'imagine': 26769,\n",
       " 'struggle': 54261,\n",
       " 'favorite': 19356,\n",
       " 'intuitive': 28240,\n",
       " 'coach': 10230,\n",
       " 'writer': 62914,\n",
       " 'base': 4918,\n",
       " 'southern': 52909,\n",
       " 'california': 7905,\n",
       " 'guide': 23312,\n",
       " 'women': 62621,\n",
       " 'turn': 58279,\n",
       " 'inside': 27804,\n",
       " 'rediscover': 46770,\n",
       " 'signature': 51709,\n",
       " 'program': 44747,\n",
       " 'clients': 9952,\n",
       " 'blockages': 6214,\n",
       " 'reconnect': 46652,\n",
       " 'intuition': 28238,\n",
       " 'happiest': 23907,\n",
       " 'visit': 60826,\n",
       " 'wwworlyslightcom': 63028,\n",
       " 'facebook': 18874,\n",
       " 'sf': 51017,\n",
       " 'source': 52875,\n",
       " 'dreamcatcher': 15956,\n",
       " 'reality': 46426,\n",
       " 'donald': 15631,\n",
       " 'trump': 57918,\n",
       " 'insane': 27775,\n",
       " 'white': 62080,\n",
       " 'cult': 12735,\n",
       " 'pat': 41567,\n",
       " 'buchanan': 7375,\n",
       " 'explain': 18608,\n",
       " 'workdonald': 62718,\n",
       " 'validate': 60089,\n",
       " 'fundamentally': 21340,\n",
       " 'hero': 24677,\n",
       " 'leader': 31574,\n",
       " 'age': 974,\n",
       " 'obama': 39273,\n",
       " 'members': 34839,\n",
       " 'pundit': 45364,\n",
       " 'class': 9832,\n",
       " 'befuddle': 5241,\n",
       " 'ascendance': 3526,\n",
       " 'solve': 52678,\n",
       " 'riddle': 48038,\n",
       " 'littlediscussed': 32461,\n",
       " 'editorial': 16628,\n",
       " 'ago': 1050,\n",
       " 'offer': 39574,\n",
       " 'analysis': 2154,\n",
       " 'popularity': 43572,\n",
       " 'traceable': 57366,\n",
       " 'reject': 47113,\n",
       " 'moral': 36358,\n",
       " 'authority': 4099,\n",
       " 'media': 34618,\n",
       " 'commandments': 10695,\n",
       " 'mock': 35995,\n",
       " 'condemnations': 11020,\n",
       " 'norms': 38799,\n",
       " 'correctness': 11813,\n",
       " 'large': 31302,\n",
       " 'slice': 52190,\n",
       " 'america': 1960,\n",
       " 'detest': 14516,\n",
       " 'public': 45254,\n",
       " 'approval': 3072,\n",
       " 'rival': 48220,\n",
       " 'congress': 11148,\n",
       " 'relish': 47191,\n",
       " 'defiance': 13828,\n",
       " 'thing': 56453,\n",
       " 'folks': 20450,\n",
       " 'apologize': 2956,\n",
       " 'press': 44328,\n",
       " 'denounce': 14206,\n",
       " 'grossly': 23146,\n",
       " 'insensitive': 27794,\n",
       " 'mexicans': 35167,\n",
       " 'muslims': 37076,\n",
       " 'mccain': 34386,\n",
       " 'reporter': 47401,\n",
       " 'disability': 14937,\n",
       " 'crimes': 12388,\n",
       " 'decency': 13626,\n",
       " 'disqualify': 15220,\n",
       " 'candidate': 8105,\n",
       " 'president': 44274,\n",
       " 'demand': 14028,\n",
       " 'double': 15771,\n",
       " 'republicans': 47485,\n",
       " 'repudiate': 47508,\n",
       " 'gop': 22608,\n",
       " 'nominate': 38401,\n",
       " 'vote': 60983,\n",
       " 'bigot': 5808,\n",
       " 'racist': 45879,\n",
       " 'xenophobe': 63074,\n",
       " 'sexist': 50991,\n",
       " 'cuss': 12853,\n",
       " 'corrupt': 11837,\n",
       " 'establishment': 17972,\n",
       " 'possess': 43678,\n",
       " 'gift': 22110,\n",
       " 'insight': 27816,\n",
       " 'powerful': 43881,\n",
       " 'appeal': 2985,\n",
       " 'republican': 47466,\n",
       " 'men': 34878,\n",
       " 'nativist': 37469,\n",
       " 'xenophobic': 63076,\n",
       " 'rightwing': 48111,\n",
       " 'populists': 43593,\n",
       " 'understand': 58987,\n",
       " 'allure': 1673,\n",
       " 'alienation': 1487,\n",
       " 'racial': 45864,\n",
       " 'resentment': 47567,\n",
       " 'post': 43690,\n",
       " 'civil': 9752,\n",
       " 'warrior': 61395,\n",
       " 'george': 21938,\n",
       " 'wallace': 61228,\n",
       " 'knownothings': 30708,\n",
       " 'century': 8886,\n",
       " 'legion': 31751,\n",
       " 'recent': 46574,\n",
       " 'iterations': 28780,\n",
       " 'long': 32690,\n",
       " 'demagoguery': 14024,\n",
       " 'false': 19085,\n",
       " 'populism': 43588,\n",
       " 'politics': 43403,\n",
       " 'essence': 17958,\n",
       " 'buchanans': 7377,\n",
       " 'claim': 9783,\n",
       " 'remain': 47206,\n",
       " 'correct': 11804,\n",
       " 'discredit': 15031,\n",
       " 'read': 46364,\n",
       " 'rigorous': 48122,\n",
       " 'research': 47552,\n",
       " 'social': 52533,\n",
       " 'scientists': 50013,\n",
       " 'mountains': 36622,\n",
       " 'poll': 43428,\n",
       " 'data': 13224,\n",
       " 'thesis': 56402,\n",
       " 'supporters': 54778,\n",
       " 'really': 46444,\n",
       " 'writ': 62909,\n",
       " 'sense': 50735,\n",
       " 'world': 62760,\n",
       " 'example': 18357,\n",
       " 'conduct': 11048,\n",
       " 'cbs': 8725,\n",
       " 'cnn': 10209,\n",
       " 'backers': 4393,\n",
       " 'interviewers': 28160,\n",
       " 'politicians': 43388,\n",
       " 'come': 10626,\n",
       " 'tv': 58323,\n",
       " 'scar': 49779,\n",
       " 'actually': 518,\n",
       " 'jumpy': 29707,\n",
       " 'crazy': 12282,\n",
       " 'inflammatory': 27522,\n",
       " 'dial': 14654,\n",
       " 'divorce': 15374,\n",
       " 'peek': 41853,\n",
       " 'mouth': 36655,\n",
       " 'madness': 33309,\n",
       " 'challenge': 9010,\n",
       " 'responsible': 47673,\n",
       " 'obamaand': 39275,\n",
       " 'movement': 36665,\n",
       " 'conservatism': 11255,\n",
       " 'generallyis': 21829,\n",
       " 'faith': 19029,\n",
       " 'merit': 34995,\n",
       " 'discourse': 15025,\n",
       " 'mutually': 37122,\n",
       " 'agree': 1067,\n",
       " 'facts': 18957,\n",
       " 'proceed': 44621,\n",
       " 'belief': 5334,\n",
       " 'version': 60411,\n",
       " 'normal': 38787,\n",
       " 'service': 50867,\n",
       " 'governance': 22711,\n",
       " 'commentariat': 10712,\n",
       " 'effectively': 16691,\n",
       " 'grapple': 22915,\n",
       " 'todays': 57011,\n",
       " 'brand': 6898,\n",
       " 'preenlightenment': 44094,\n",
       " 'disorientation': 15167,\n",
       " 'confuse': 11125,\n",
       " 'coordinate': 11660,\n",
       " 'campaign': 7992,\n",
       " 'outright': 40667,\n",
       " 'seductive': 50349,\n",
       " 'disinformation': 15113,\n",
       " 'short': 51468,\n",
       " 'analytical': 2163,\n",
       " 'tool': 57161,\n",
       " 'frameworks': 20870,\n",
       " 'incapable': 27104,\n",
       " 'true': 57894,\n",
       " 'contemporary': 11422,\n",
       " 'embody': 17207,\n",
       " 'personality': 42182,\n",
       " 'protofascist': 45075,\n",
       " 'buddies': 7400,\n",
       " 'vladimir': 60886,\n",
       " 'putin': 45467,\n",
       " 'credibility': 12319,\n",
       " 'role': 48436,\n",
       " 'ilduce': 26668,\n",
       " 'petit': 42289,\n",
       " 'mussolini': 37087,\n",
       " 'st': 53398,\n",
       " 'classic': 9839,\n",
       " 'strong': 54234,\n",
       " 'man': 33647,\n",
       " 'figure': 19826,\n",
       " 'encourage': 17385,\n",
       " 'followers': 20460,\n",
       " 'opponents': 40156,\n",
       " 'identify': 26542,\n",
       " 'weak': 61586,\n",
       " 'deny': 14234,\n",
       " 'neofascist': 37775,\n",
       " 'brag': 6864,\n",
       " 'perfect': 42043,\n",
       " 'vitality': 60848,\n",
       " 'fit': 20072,\n",
       " 'body': 6414,\n",
       " 'egomaniacal': 16748,\n",
       " 'narcissism': 37332,\n",
       " 'essential': 17961,\n",
       " 'craft': 12233,\n",
       " 'charismatic': 9125,\n",
       " 'persona': 42175,\n",
       " 'far': 19171,\n",
       " 'seriously': 50839,\n",
       " 'consider': 11275,\n",
       " 'possibility': 43684,\n",
       " 'specifically': 53065,\n",
       " 'generally': 21828,\n",
       " 'psychopathology': 45226,\n",
       " 'orient': 40342,\n",
       " 'religion': 47175,\n",
       " 'goals': 22393,\n",
       " 'note': 38875,\n",
       " 'psychiatrist': 45203,\n",
       " 'robert': 48328,\n",
       " 'jay': 29083,\n",
       " 'lifton': 32213,\n",
       " 'outline': 40604,\n",
       " 'basic': 4950,\n",
       " 'aspects': 3614,\n",
       " 'garner': 21645,\n",
       " 'money': 36183,\n",
       " 'promise': 44846,\n",
       " 'great': 22967,\n",
       " 'economic': 16545,\n",
       " 'uplift': 59701,\n",
       " 'resources': 47641,\n",
       " 'important': 26971,\n",
       " 'distinction': 15285,\n",
       " 'qualifierone': 45612,\n",
       " 'trouble': 57855,\n",
       " 'notion': 38904,\n",
       " 'condition': 11031,\n",
       " 'identity': 26547,\n",
       " 'voters': 61019,\n",
       " 'grab': 22799,\n",
       " 'agents': 998,\n",
       " 'space': 52955,\n",
       " 'outlet': 40599,\n",
       " 'preexist': 44098,\n",
       " 'bigoted': 5809,\n",
       " 'attitudes': 3958,\n",
       " 'selves': 50642,\n",
       " 'actualize': 517,\n",
       " 'liberate': 32073,\n",
       " 'presidential': 44295,\n",
       " 'primary': 44458,\n",
       " 'candidates': 8112,\n",
       " 'terrorism': 56003,\n",
       " 'immigrants': 26829,\n",
       " 'demographics': 14114,\n",
       " 'crime': 12377,\n",
       " 'islam': 28602,\n",
       " 'gin': 22154,\n",
       " 'frighten': 21136,\n",
       " 'strategy': 54120,\n",
       " 'mix': 35933,\n",
       " 'oldfashioned': 39777,\n",
       " 'fearmongering': 19453,\n",
       " 'older': 39773,\n",
       " 'moment': 36131,\n",
       " 'happen': 23891,\n",
       " 'tactic': 55268,\n",
       " 'leverage': 31974,\n",
       " 'brain': 6879,\n",
       " 'structure': 54258,\n",
       " 'conservativesauthoritarians': 11267,\n",
       " 'responsive': 47677,\n",
       " 'progressives': 44769,\n",
       " 'master': 34161,\n",
       " 'manipulate': 33729,\n",
       " 'anxieties': 2859,\n",
       " 'crisis': 12424,\n",
       " 'solution': 52668,\n",
       " 'story': 54049,\n",
       " 'height': 24481,\n",
       " 'panic': 41190,\n",
       " 'cults': 12743,\n",
       " 'dr': 15900,\n",
       " 'cath': 8623,\n",
       " 'define': 13844,\n",
       " 'join': 29479,\n",
       " 'ideological': 26553,\n",
       " 'foster': 20737,\n",
       " 'expectation': 18565,\n",
       " 'transcend': 57478,\n",
       " 'imperfections': 26914,\n",
       " 'finitude': 19945,\n",
       " 'wethey': 61974,\n",
       " 'philosophy': 42434,\n",
       " 'mark': 33952,\n",
       " 'panicky': 41193,\n",
       " 'disorient': 15166,\n",
       " 'emotional': 17288,\n",
       " 'manufacture': 33798,\n",
       " 'recruiters': 46705,\n",
       " 'response': 47667,\n",
       " 'clark': 9826,\n",
       " 'psychotic': 45236,\n",
       " 'exist': 18502,\n",
       " 'echo': 16519,\n",
       " 'chamber': 9020,\n",
       " 'elites': 17076,\n",
       " 'fox': 20824,\n",
       " 'news': 37966,\n",
       " 'talk': 55363,\n",
       " 'include': 27157,\n",
       " 'online': 40015,\n",
       " 'worldview': 62799,\n",
       " 'empirical': 17316,\n",
       " 'paranoid': 41306,\n",
       " 'style': 54330,\n",
       " 'conspiracy': 11302,\n",
       " 'theories': 56350,\n",
       " 'unfounded': 59144,\n",
       " 'rumor': 48849,\n",
       " 'substantive': 54443,\n",
       " 'extreme': 18783,\n",
       " 'polarization': 43286,\n",
       " 'epistemic': 17731,\n",
       " 'closure': 10140,\n",
       " 'typify': 58520,\n",
       " 'wing': 62382,\n",
       " 'isolate': 28655,\n",
       " 'agreeable': 1068,\n",
       " 'cut': 12867,\n",
       " 'outside': 40672,\n",
       " 'enter': 17594,\n",
       " 'consciously': 11227,\n",
       " 'unconsciously': 58853,\n",
       " 'gradually': 22820,\n",
       " 'block': 6211,\n",
       " 'separate': 50773,\n",
       " 'lose': 32808,\n",
       " 'ability': 148,\n",
       " 'independently': 27272,\n",
       " 'abundant': 262,\n",
       " 'convert': 11594,\n",
       " 'contact': 11393,\n",
       " 'exchange': 18402,\n",
       " 'burst': 7609,\n",
       " 'cocoon': 10316,\n",
       " 'traditional': 57397,\n",
       " 'immerse': 26818,\n",
       " ...}"
      ]
     },
     "execution_count": 44,
     "metadata": {},
     "output_type": "execute_result"
    }
   ],
   "source": [
    "tfidf_vectorizer.vocabulary_"
   ]
  },
  {
   "cell_type": "code",
   "execution_count": 45,
   "id": "c5507f1c",
   "metadata": {
    "scrolled": true
   },
   "outputs": [
    {
     "data": {
      "text/plain": [
       "{'say'}"
      ]
     },
     "execution_count": 45,
     "metadata": {},
     "output_type": "execute_result"
    }
   ],
   "source": [
    "tfidf_vectorizer.stop_words_"
   ]
  },
  {
   "cell_type": "markdown",
   "id": "52639f37",
   "metadata": {},
   "source": [
    "<br><h2 style=\"font-size: 28px; text-align: center; color: red\">Modelling</h2>"
   ]
  },
  {
   "cell_type": "markdown",
   "id": "6b8fb09d",
   "metadata": {},
   "source": [
    "<br><h2 style=\"font-size: 24px; text-align: center; color: blue;\">Passive Aggressive Classifier</h2>"
   ]
  },
  {
   "cell_type": "code",
   "execution_count": 46,
   "id": "4b16ad56",
   "metadata": {},
   "outputs": [
    {
     "name": "stdout",
     "output_type": "stream",
     "text": [
      "Accuracy:  95.32\n",
      "Precision:  95.46\n",
      "Recall:  95.31\n",
      "F1-Score:  95.39\n"
     ]
    }
   ],
   "source": [
    "pac = PassiveAggressiveClassifier(max_iter=50)\n",
    "pac.fit(tfidf_train,y_train)\n",
    "y_pred=pac.predict(tfidf_test)\n",
    "\n",
    "print('Accuracy: ', round(accuracy_score(y_test,y_pred)*100, 2))\n",
    "print('Precision: ', round(precision_score(y_test,y_pred)*100, 2))\n",
    "print('Recall: ', round(recall_score(y_test,y_pred)*100, 2))\n",
    "print('F1-Score: ', round(f1_score(y_test,y_pred)*100, 2))"
   ]
  },
  {
   "cell_type": "markdown",
   "id": "ef57b05c",
   "metadata": {},
   "source": [
    "<h2 style=\"font-size: 24px; text-align: center; font-style: italic;\">Confusion Matrix"
   ]
  },
  {
   "cell_type": "code",
   "execution_count": 68,
   "id": "af0f75cb",
   "metadata": {
    "execution": {
     "iopub.execute_input": "2023-03-23T21:08:12.452712Z",
     "iopub.status.busy": "2023-03-23T21:08:12.451970Z",
     "iopub.status.idle": "2023-03-23T21:08:12.763703Z",
     "shell.execute_reply": "2023-03-23T21:08:12.762079Z",
     "shell.execute_reply.started": "2023-03-23T21:08:12.452640Z"
    },
    "scrolled": true
   },
   "outputs": [
    {
     "data": {
      "image/png": "[encoded data removed]",
      "text/plain": [
       "<Figure size 432x288 with 2 Axes>"
      ]
     },
     "metadata": {
      "needs_background": "light"
     },
     "output_type": "display_data"
    }
   ],
   "source": [
    "cm = confusion_matrix(y_test, y_pred)\n",
    "cm_display = ConfusionMatrixDisplay(cm).plot()"
   ]
  },
  {
   "cell_type": "markdown",
   "id": "fb8a053e",
   "metadata": {},
   "source": [
    "<h2 style=\"font-size: 24px; text-align: center; font-style: italic;\">ROC Curve"
   ]
  },
  {
   "cell_type": "code",
   "execution_count": 69,
   "id": "79f55fe6",
   "metadata": {
    "execution": {
     "iopub.execute_input": "2023-03-23T21:08:19.357873Z",
     "iopub.status.busy": "2023-03-23T21:08:19.357306Z",
     "iopub.status.idle": "2023-03-23T21:08:20.864312Z",
     "shell.execute_reply": "2023-03-23T21:08:20.862834Z",
     "shell.execute_reply.started": "2023-03-23T21:08:19.357825Z"
    }
   },
   "outputs": [
    {
     "data": {
      "image/png": "[encoded data removed]",
      "text/plain": [
       "<Figure size 432x288 with 1 Axes>"
      ]
     },
     "metadata": {
      "needs_background": "light"
     },
     "output_type": "display_data"
    }
   ],
   "source": [
    "decision_scores = pac.decision_function(tfidf_test)\n",
    "fpr, tpr, thresholds_roc = roc_curve(y_test, decision_scores)\n",
    "\n",
    "roc_display = RocCurveDisplay(fpr=fpr, tpr=tpr).plot()"
   ]
  },
  {
   "cell_type": "markdown",
   "id": "b54cdc40",
   "metadata": {},
   "source": [
    "<h2 style=\"font-size: 24px; text-align: center; font-style: italic;\">Precision Recall Curve"
   ]
  },
  {
   "cell_type": "code",
   "execution_count": 65,
   "id": "a967fc8f",
   "metadata": {
    "execution": {
     "iopub.execute_input": "2023-03-23T21:08:24.835045Z",
     "iopub.status.busy": "2023-03-23T21:08:24.833948Z",
     "iopub.status.idle": "2023-03-23T21:08:25.088736Z",
     "shell.execute_reply": "2023-03-23T21:08:25.087247Z",
     "shell.execute_reply.started": "2023-03-23T21:08:24.834982Z"
    },
    "scrolled": true
   },
   "outputs": [
    {
     "data": {
      "image/png": "[encoded data removed]",
      "text/plain": [
       "<Figure size 432x288 with 1 Axes>"
      ]
     },
     "metadata": {
      "needs_background": "light"
     },
     "output_type": "display_data"
    }
   ],
   "source": [
    "precision, recall, thresholds_pr = precision_recall_curve(y_test, decision_scores)\n",
    "pr_display = PrecisionRecallDisplay(precision=precision, recall=recall).plot()"
   ]
  },
  {
   "cell_type": "markdown",
   "id": "da1be729",
   "metadata": {},
   "source": [
    "<br><h2 style=\"font-size: 24px; text-align: center; color: blue;\">Multi-layer Perceptron (MLP) Classifier</h2>"
   ]
  },
  {
   "cell_type": "code",
   "execution_count": 70,
   "id": "b2a7e221",
   "metadata": {
    "scrolled": true
   },
   "outputs": [
    {
     "name": "stdout",
     "output_type": "stream",
     "text": [
      "Accuracy:  95.48\n",
      "Precision:  96.2\n",
      "Recall:  94.84\n",
      "F1-Score:  95.52\n"
     ]
    }
   ],
   "source": [
    "mlpc = MLPClassifier()\n",
    "mlpc.fit(tfidf_train,y_train)\n",
    "y_pred=mlpc.predict(tfidf_test)\n",
    "\n",
    "print('Accuracy: ', round(accuracy_score(y_test,y_pred)*100, 2))\n",
    "print('Precision: ', round(precision_score(y_test,y_pred)*100, 2))\n",
    "print('Recall: ', round(recall_score(y_test,y_pred)*100, 2))\n",
    "print('F1-Score: ', round(f1_score(y_test,y_pred)*100, 2))"
   ]
  },
  {
   "cell_type": "markdown",
   "id": "f726734c",
   "metadata": {},
   "source": [
    "<h2 style=\"font-size: 24px; text-align: center; font-style: italic;\">Confusion Matrix"
   ]
  },
  {
   "cell_type": "code",
   "execution_count": 75,
   "id": "e1a355c9",
   "metadata": {
    "execution": {
     "iopub.execute_input": "2023-03-23T19:35:21.877478Z",
     "iopub.status.busy": "2023-03-23T19:35:21.876927Z",
     "iopub.status.idle": "2023-03-23T19:35:22.195252Z",
     "shell.execute_reply": "2023-03-23T19:35:22.193439Z",
     "shell.execute_reply.started": "2023-03-23T19:35:21.877426Z"
    },
    "scrolled": false
   },
   "outputs": [
    {
     "data": {
      "image/png": "[encoded data removed]",
      "text/plain": [
       "<Figure size 432x288 with 2 Axes>"
      ]
     },
     "metadata": {
      "needs_background": "light"
     },
     "output_type": "display_data"
    }
   ],
   "source": [
    "cm = confusion_matrix(y_test, y_pred)\n",
    "cm_display = ConfusionMatrixDisplay(cm).plot()"
   ]
  },
  {
   "cell_type": "markdown",
   "id": "160a10be",
   "metadata": {},
   "source": [
    "<h2 style=\"font-size: 24px; text-align: center; font-style: italic;\">ROC Curve"
   ]
  },
  {
   "cell_type": "code",
   "execution_count": 78,
   "id": "87368414",
   "metadata": {
    "execution": {
     "iopub.execute_input": "2023-03-23T19:48:22.071567Z",
     "iopub.status.busy": "2023-03-23T19:48:22.071024Z",
     "iopub.status.idle": "2023-03-23T19:48:23.140829Z",
     "shell.execute_reply": "2023-03-23T19:48:23.139316Z",
     "shell.execute_reply.started": "2023-03-23T19:48:22.071519Z"
    }
   },
   "outputs": [
    {
     "data": {
      "image/png": "[encoded data removed]",
      "text/plain": [
       "<Figure size 432x288 with 1 Axes>"
      ]
     },
     "metadata": {
      "needs_background": "light"
     },
     "output_type": "display_data"
    }
   ],
   "source": [
    "y_score = mlpc.predict_proba(tfidf_test)[:, 1]\n",
    "\n",
    "fpr, tpr, _ = roc_curve(y_test, y_score, pos_label=mlpc.classes_[1])\n",
    "roc_display = RocCurveDisplay(fpr=fpr, tpr=tpr).plot()"
   ]
  },
  {
   "cell_type": "markdown",
   "id": "f00eecff",
   "metadata": {},
   "source": [
    "<h2 style=\"font-size: 24px; text-align: center; font-style: italic;\">Precision Recall Curve"
   ]
  },
  {
   "cell_type": "code",
   "execution_count": 80,
   "id": "e6603d6d",
   "metadata": {
    "execution": {
     "iopub.execute_input": "2023-03-23T19:49:17.483846Z",
     "iopub.status.busy": "2023-03-23T19:49:17.482630Z",
     "iopub.status.idle": "2023-03-23T19:49:17.667952Z",
     "shell.execute_reply": "2023-03-23T19:49:17.666383Z",
     "shell.execute_reply.started": "2023-03-23T19:49:17.483782Z"
    }
   },
   "outputs": [
    {
     "data": {
      "image/png": "[encoded data removed]",
      "text/plain": [
       "<Figure size 432x288 with 1 Axes>"
      ]
     },
     "metadata": {
      "needs_background": "light"
     },
     "output_type": "display_data"
    }
   ],
   "source": [
    "prec, recall, _ = precision_recall_curve(y_test, y_score, pos_label=mlpc.classes_[1])\n",
    "pr_display = PrecisionRecallDisplay(precision=prec, recall=recall).plot()"
   ]
  },
  {
   "cell_type": "markdown",
   "id": "15a3cf8c",
   "metadata": {},
   "source": [
    "<h2 style=\"font-size: 24px; text-align: center; font-style: italic;\">Loss Curve"
   ]
  },
  {
   "cell_type": "code",
   "execution_count": 82,
   "id": "8b97a6ff",
   "metadata": {
    "execution": {
     "iopub.execute_input": "2023-03-23T20:01:39.534805Z",
     "iopub.status.busy": "2023-03-23T20:01:39.534224Z",
     "iopub.status.idle": "2023-03-23T20:01:39.706766Z",
     "shell.execute_reply": "2023-03-23T20:01:39.705139Z",
     "shell.execute_reply.started": "2023-03-23T20:01:39.534755Z"
    }
   },
   "outputs": [
    {
     "data": {
      "image/png": "[encoded data removed]",
      "text/plain": [
       "<Figure size 432x288 with 1 Axes>"
      ]
     },
     "metadata": {
      "needs_background": "light"
     },
     "output_type": "display_data"
    }
   ],
   "source": [
    "plt.plot(mlpc.loss_curve_)\n",
    "plt.title('Loss Curve')\n",
    "plt.xlabel('Number of iterations')\n",
    "plt.ylabel('Loss')\n",
    "plt.show()"
   ]
  },
  {
   "cell_type": "markdown",
   "id": "741f8054",
   "metadata": {},
   "source": [
    "<br><h2 style=\"font-size: 24px; text-align: center; color: blue;\">Random Forest Classifier</h2>"
   ]
  },
  {
   "cell_type": "code",
   "execution_count": 83,
   "id": "1fbc834c",
   "metadata": {},
   "outputs": [
    {
     "name": "stdout",
     "output_type": "stream",
     "text": [
      "Accuracy:  93.81\n",
      "Precision:  93.91\n",
      "Recall:  93.91\n",
      "F1-Score:  93.91\n"
     ]
    }
   ],
   "source": [
    "rfc = RandomForestClassifier()\n",
    "rfc.fit(tfidf_train,y_train)\n",
    "y_pred=rfc.predict(tfidf_test)\n",
    "\n",
    "print('Accuracy: ', round(accuracy_score(y_test,y_pred)*100, 2))\n",
    "print('Precision: ', round(precision_score(y_test,y_pred)*100, 2))\n",
    "print('Recall: ', round(recall_score(y_test,y_pred)*100, 2))\n",
    "print('F1-Score: ', round(f1_score(y_test,y_pred)*100, 2))"
   ]
  },
  {
   "cell_type": "markdown",
   "id": "644d7e78",
   "metadata": {},
   "source": [
    "<h2 style=\"font-size: 24px; text-align: center; font-style: italic;\">Confusion Matrix"
   ]
  },
  {
   "cell_type": "code",
   "execution_count": 84,
   "id": "12a354eb",
   "metadata": {
    "execution": {
     "iopub.execute_input": "2023-03-23T21:08:12.452712Z",
     "iopub.status.busy": "2023-03-23T21:08:12.451970Z",
     "iopub.status.idle": "2023-03-23T21:08:12.763703Z",
     "shell.execute_reply": "2023-03-23T21:08:12.762079Z",
     "shell.execute_reply.started": "2023-03-23T21:08:12.452640Z"
    }
   },
   "outputs": [
    {
     "data": {
      "image/png": "[encoded data removed]",
      "text/plain": [
       "<Figure size 432x288 with 2 Axes>"
      ]
     },
     "metadata": {
      "needs_background": "light"
     },
     "output_type": "display_data"
    }
   ],
   "source": [
    "cm = confusion_matrix(y_test, y_pred)\n",
    "cm_display = ConfusionMatrixDisplay(cm).plot()"
   ]
  },
  {
   "cell_type": "markdown",
   "id": "178dcb42",
   "metadata": {},
   "source": [
    "<h2 style=\"font-size: 24px; text-align: center; font-style: italic;\">ROC Curve"
   ]
  },
  {
   "cell_type": "code",
   "execution_count": 85,
   "id": "5336c9d9",
   "metadata": {
    "execution": {
     "iopub.execute_input": "2023-03-23T21:08:19.357873Z",
     "iopub.status.busy": "2023-03-23T21:08:19.357306Z",
     "iopub.status.idle": "2023-03-23T21:08:20.864312Z",
     "shell.execute_reply": "2023-03-23T21:08:20.862834Z",
     "shell.execute_reply.started": "2023-03-23T21:08:19.357825Z"
    }
   },
   "outputs": [
    {
     "data": {
      "image/png": "[encoded data removed]",
      "text/plain": [
       "<Figure size 432x288 with 1 Axes>"
      ]
     },
     "metadata": {
      "needs_background": "light"
     },
     "output_type": "display_data"
    }
   ],
   "source": [
    "y_score = rfc.predict_proba(tfidf_test)[:, 1]\n",
    "\n",
    "fpr, tpr, _ = roc_curve(y_test, y_score, pos_label=rfc.classes_[1])\n",
    "roc_display = RocCurveDisplay(fpr=fpr, tpr=tpr).plot()"
   ]
  },
  {
   "cell_type": "markdown",
   "id": "f463bb2b",
   "metadata": {},
   "source": [
    "<h2 style=\"font-size: 24px; text-align: center; font-style: italic;\">Precision Recall Curve"
   ]
  },
  {
   "cell_type": "code",
   "execution_count": 86,
   "id": "e7ec7dad",
   "metadata": {
    "execution": {
     "iopub.execute_input": "2023-03-23T21:08:24.835045Z",
     "iopub.status.busy": "2023-03-23T21:08:24.833948Z",
     "iopub.status.idle": "2023-03-23T21:08:25.088736Z",
     "shell.execute_reply": "2023-03-23T21:08:25.087247Z",
     "shell.execute_reply.started": "2023-03-23T21:08:24.834982Z"
    }
   },
   "outputs": [
    {
     "data": {
      "image/png": "[encoded data removed]",
      "text/plain": [
       "<Figure size 432x288 with 1 Axes>"
      ]
     },
     "metadata": {
      "needs_background": "light"
     },
     "output_type": "display_data"
    }
   ],
   "source": [
    "prec, recall, _ = precision_recall_curve(y_test, y_score, pos_label=rfc.classes_[1])\n",
    "pr_display = PrecisionRecallDisplay(precision=prec, recall=recall).plot()"
   ]
  },
  {
   "cell_type": "markdown",
   "id": "59aa16ac",
   "metadata": {},
   "source": [
    "<br><h2 style=\"font-size: 28px; text-align: center; color: red\">End</h1>"
   ]
  }
 ],
 "metadata": {
  "kernelspec": {
   "display_name": "Python 3 (ipykernel)",
   "language": "python",
   "name": "python3"
  },
  "language_info": {
   "codemirror_mode": {
    "name": "ipython",
    "version": 3
   },
   "file_extension": ".py",
   "mimetype": "text/x-python",
   "name": "python",
   "nbconvert_exporter": "python",
   "pygments_lexer": "ipython3",
   "version": "3.10.5"
  }
 },
 "nbformat": 4,
 "nbformat_minor": 5
}
